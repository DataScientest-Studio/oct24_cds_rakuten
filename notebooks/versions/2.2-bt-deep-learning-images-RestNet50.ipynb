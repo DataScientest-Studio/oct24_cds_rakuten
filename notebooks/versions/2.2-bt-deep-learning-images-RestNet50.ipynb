{
 "cells": [
  {
   "cell_type": "code",
   "execution_count": 16,
   "id": "2cc5518c-9e8e-4aea-9aae-11b7960d83c0",
   "metadata": {
    "editable": true,
    "slideshow": {
     "slide_type": ""
    },
    "tags": []
   },
   "outputs": [],
   "source": [
    "import pandas as pd\n",
    "from sklearn.model_selection import train_test_split\n",
    "import os\n",
    "import shutil\n",
    "import time\n",
    "import tensorflow as tf\n",
    "from sklearn.metrics import accuracy_score, f1_score, confusion_matrix, classification_report\n",
    "from tensorflow.keras.preprocessing.image import ImageDataGenerator, load_img, img_to_array\n",
    "from tensorflow.keras.applications import ResNet50\n",
    "from tensorflow.keras.applications.resnet50 import preprocess_input\n",
    "from tensorflow.keras.models import Model\n",
    "from tensorflow.keras.layers import Dense, GlobalAveragePooling2D\n",
    "from tensorflow.keras.optimizers import Adam\n",
    "from tensorflow.keras.applications.resnet50 import preprocess_input\n",
    "import numpy as np\n",
    "from tensorflow.keras.models import load_model\n",
    "from tensorflow.keras.preprocessing import image\n",
    "from tensorflow.keras.applications.resnet50 import decode_predictions"
   ]
  },
  {
   "cell_type": "markdown",
   "id": "64251a60-0b4a-449a-8021-43e2d1065aaa",
   "metadata": {},
   "source": [
    "# Chargement des données et division en train, val et test  "
   ]
  },
  {
   "cell_type": "code",
   "execution_count": 17,
   "id": "cbd660ed-83a4-48d0-ba5f-a9f82bc58686",
   "metadata": {},
   "outputs": [],
   "source": [
    "df=pd.read_csv('X_train_update.csv')\n",
    "df1=pd.read_csv(\"y_train_CVw08PX.csv\")\n",
    "\n",
    "\n",
    "#Nous allons changer les valeurs de notre colonne chemin_images du dataFrame par les chemins des images correspondantes à productid et imageid\n",
    "for mmm, mmm1 in zip(df.imageid, df.productid):    \n",
    "        nom_img = f\"image_{mmm}_product_{mmm1}.jpg\"\n",
    "        df.loc[df['imageid'] == mmm, 'image_name'] = nom_img\n",
    " \n",
    "#On peut supprimer les colonnes productid et imageid de notre data Frame enfin de l'alleger.\n",
    "df=df.drop([\"designation\",\"productid\", \"imageid\",\"description\"], axis=1)"
   ]
  },
  {
   "cell_type": "code",
   "execution_count": 18,
   "id": "d63ca8fd-fade-4d65-8343-8562fc4da3ce",
   "metadata": {},
   "outputs": [
    {
     "data": {
      "text/html": [
       "<div>\n",
       "<style scoped>\n",
       "    .dataframe tbody tr th:only-of-type {\n",
       "        vertical-align: middle;\n",
       "    }\n",
       "\n",
       "    .dataframe tbody tr th {\n",
       "        vertical-align: top;\n",
       "    }\n",
       "\n",
       "    .dataframe thead th {\n",
       "        text-align: right;\n",
       "    }\n",
       "</style>\n",
       "<table border=\"1\" class=\"dataframe\">\n",
       "  <thead>\n",
       "    <tr style=\"text-align: right;\">\n",
       "      <th></th>\n",
       "      <th>Unnamed: 0</th>\n",
       "      <th>image_name</th>\n",
       "      <th>categ</th>\n",
       "    </tr>\n",
       "  </thead>\n",
       "  <tbody>\n",
       "    <tr>\n",
       "      <th>0</th>\n",
       "      <td>0</td>\n",
       "      <td>image_1263597046_product_3804725264.jpg</td>\n",
       "      <td>10</td>\n",
       "    </tr>\n",
       "    <tr>\n",
       "      <th>1</th>\n",
       "      <td>1</td>\n",
       "      <td>image_1008141237_product_436067568.jpg</td>\n",
       "      <td>2280</td>\n",
       "    </tr>\n",
       "    <tr>\n",
       "      <th>2</th>\n",
       "      <td>2</td>\n",
       "      <td>image_938777978_product_201115110.jpg</td>\n",
       "      <td>50</td>\n",
       "    </tr>\n",
       "    <tr>\n",
       "      <th>3</th>\n",
       "      <td>3</td>\n",
       "      <td>image_457047496_product_50418756.jpg</td>\n",
       "      <td>1280</td>\n",
       "    </tr>\n",
       "    <tr>\n",
       "      <th>4</th>\n",
       "      <td>4</td>\n",
       "      <td>image_1077757786_product_278535884.jpg</td>\n",
       "      <td>2705</td>\n",
       "    </tr>\n",
       "  </tbody>\n",
       "</table>\n",
       "</div>"
      ],
      "text/plain": [
       "   Unnamed: 0                               image_name  categ\n",
       "0           0  image_1263597046_product_3804725264.jpg     10\n",
       "1           1   image_1008141237_product_436067568.jpg   2280\n",
       "2           2    image_938777978_product_201115110.jpg     50\n",
       "3           3     image_457047496_product_50418756.jpg   1280\n",
       "4           4   image_1077757786_product_278535884.jpg   2705"
      ]
     },
     "execution_count": 18,
     "metadata": {},
     "output_type": "execute_result"
    }
   ],
   "source": [
    "df[\"categ\"] = df1.prdtypecode\n",
    "df.head()"
   ]
  },
  {
   "cell_type": "code",
   "execution_count": 4,
   "id": "1600f4d3-23fd-4431-8d98-a565439efb73",
   "metadata": {},
   "outputs": [],
   "source": [
    "# Chemins\n",
    "CSV_PATH = './labels.csv'\n",
    "IMG_DIR = 'C:/Users/Bureau/Desktop/projetRakuten/images/train/image_train'\n",
    "DEST_DIR = 'C:/Users/Bureau/Desktop/projetRakuten/images/train/dataset_split'  # dossier de destination\n",
    "\n",
    "# Lire le CSV\n",
    "#df = pd.read_csv(CSV_PATH)\n",
    "\n",
    "# Diviser en train (70%) / val (15%) / test (15%)\n",
    "df_train, df_temp = train_test_split(df, test_size=0.3, stratify=df['categ'], random_state=42)\n",
    "df_val, df_test = train_test_split(df_temp, test_size=0.5, stratify=df_temp['categ'], random_state=42)"
   ]
  },
  {
   "cell_type": "markdown",
   "id": "29d78f12-be37-4aa5-85a6-df2d29081659",
   "metadata": {},
   "source": [
    " Fonction pour copier les images dans un dossier trié\n",
    "def save_split(df_split, split_name):\n",
    "    for _, row in df_split.iterrows():\n",
    "        try:\n",
    "            label = row['categ']\n",
    "            filename = row['image_name']\n",
    "        except KeyError:\n",
    "            print(\"Erreur : colonne 'label' ou 'image_name' introuvable.\")\n",
    "            print(f\"Colonnes disponibles : {df_split.columns}\")\n",
    "            break  # ou continue selon ton besoin\n",
    "        src_path = os.path.join(IMG_DIR, filename)\n",
    "        dest_path = os.path.join(DEST_DIR, split_name, str(label))\n",
    "        os.makedirs(dest_path, exist_ok=True)\n",
    "        try:\n",
    "            shutil.copy(src_path, os.path.join(dest_path, filename))\n",
    "        except FileNotFoundError:\n",
    "            print(f\"Image not found: {filename}\")\n",
    "            \n",
    "# Copier les fichiers\n",
    "save_split(df_train, 'train')\n",
    "save_split(df_val, 'val')\n",
    "save_split(df_test, 'test')"
   ]
  },
  {
   "cell_type": "markdown",
   "id": "1d016b0b-58cf-4761-b42f-a212bfa4e15f",
   "metadata": {},
   "source": [
    "# Création de modèle "
   ]
  },
  {
   "cell_type": "code",
   "execution_count": 19,
   "id": "923d2cd8-3377-41d5-ac86-f48d34ae945b",
   "metadata": {},
   "outputs": [
    {
     "name": "stdout",
     "output_type": "stream",
     "text": [
      "Found 59441 images belonging to 27 classes.\n",
      "Found 12737 images belonging to 27 classes.\n",
      "Found 12738 images belonging to 27 classes.\n"
     ]
    }
   ],
   "source": [
    "# Chemins\n",
    "base_dir = 'C:/Users/Bureau/Desktop/projetRakuten/images/train/dataset_split'\n",
    "img_size = (224, 224)\n",
    "batch_size = 32\n",
    "\n",
    "# Générateurs de données\n",
    "train_gen = ImageDataGenerator(preprocessing_function=preprocess_input)\n",
    "val_gen = ImageDataGenerator(preprocessing_function=preprocess_input)\n",
    "test_gen = ImageDataGenerator(preprocessing_function=preprocess_input)\n",
    "\n",
    "train_data = train_gen.flow_from_directory(\n",
    "    os.path.join(base_dir, 'train'),\n",
    "    target_size=img_size,\n",
    "    batch_size=batch_size,\n",
    "    class_mode='categorical'\n",
    ")\n",
    "\n",
    "val_data = val_gen.flow_from_directory(\n",
    "    os.path.join(base_dir, 'val'),\n",
    "    target_size=img_size,\n",
    "    batch_size=batch_size,\n",
    "    class_mode='categorical'\n",
    ")\n",
    "\n",
    "test_data = test_gen.flow_from_directory(\n",
    "    os.path.join(base_dir, 'test'),\n",
    "    target_size=img_size,\n",
    "    batch_size=batch_size,\n",
    "    class_mode='categorical',\n",
    "    shuffle=False\n",
    ")\n"
   ]
  },
  {
   "cell_type": "code",
   "execution_count": 7,
   "id": "0e203c47-5598-46e0-b6ee-225b84500032",
   "metadata": {},
   "outputs": [],
   "source": [
    "# Charger ResNet50 sans le top\n",
    "base_model = ResNet50(weights='imagenet', include_top=False, input_shape=(224, 224, 3))\n",
    "\n",
    "# Ne pas entraîner les couches du modèle de base\n",
    "for layer in base_model.layers:\n",
    "    layer.trainable = False\n",
    "\n",
    "# Ajouter les couches de classification\n",
    "x = base_model.output\n",
    "x = GlobalAveragePooling2D()(x)\n",
    "x = Dense(512, activation='relu')(x)\n",
    "predictions = Dense(train_data.num_classes, activation='softmax')(x)\n",
    "\n",
    "model = Model(inputs=base_model.input, outputs=predictions)\n",
    "\n",
    "# Compiler\n",
    "model.compile(optimizer=Adam(learning_rate=0.0001),\n",
    "              loss='categorical_crossentropy',\n",
    "              metrics=['accuracy'])\n",
    "\n"
   ]
  },
  {
   "cell_type": "code",
   "execution_count": 15,
   "id": "762a2453-cda3-4682-874a-98f55a021153",
   "metadata": {},
   "outputs": [
    {
     "name": "stdout",
     "output_type": "stream",
     "text": [
      "Epoch 1/20\n",
      "\u001b[1m1858/1858\u001b[0m \u001b[32m━━━━━━━━━━━━━━━━━━━━\u001b[0m\u001b[37m\u001b[0m \u001b[1m1933s\u001b[0m 1s/step - accuracy: 0.9768 - loss: 0.1408 - val_accuracy: 0.6205 - val_loss: 1.6502\n",
      "Epoch 2/20\n",
      "\u001b[1m1858/1858\u001b[0m \u001b[32m━━━━━━━━━━━━━━━━━━━━\u001b[0m\u001b[37m\u001b[0m \u001b[1m1919s\u001b[0m 1s/step - accuracy: 0.9791 - loss: 0.1277 - val_accuracy: 0.6217 - val_loss: 1.6680\n",
      "Epoch 3/20\n",
      "\u001b[1m1858/1858\u001b[0m \u001b[32m━━━━━━━━━━━━━━━━━━━━\u001b[0m\u001b[37m\u001b[0m \u001b[1m1919s\u001b[0m 1s/step - accuracy: 0.9838 - loss: 0.1097 - val_accuracy: 0.6188 - val_loss: 1.6876\n",
      "Epoch 4/20\n",
      "\u001b[1m1858/1858\u001b[0m \u001b[32m━━━━━━━━━━━━━━━━━━━━\u001b[0m\u001b[37m\u001b[0m \u001b[1m1915s\u001b[0m 1s/step - accuracy: 0.9861 - loss: 0.0987 - val_accuracy: 0.6157 - val_loss: 1.7587\n",
      "Epoch 5/20\n",
      "\u001b[1m1858/1858\u001b[0m \u001b[32m━━━━━━━━━━━━━━━━━━━━\u001b[0m\u001b[37m\u001b[0m \u001b[1m1917s\u001b[0m 1s/step - accuracy: 0.9876 - loss: 0.0892 - val_accuracy: 0.6139 - val_loss: 1.7631\n",
      "Epoch 6/20\n",
      "\u001b[1m1858/1858\u001b[0m \u001b[32m━━━━━━━━━━━━━━━━━━━━\u001b[0m\u001b[37m\u001b[0m \u001b[1m1918s\u001b[0m 1s/step - accuracy: 0.9893 - loss: 0.0791 - val_accuracy: 0.6189 - val_loss: 1.8214\n",
      "Epoch 7/20\n",
      "\u001b[1m1858/1858\u001b[0m \u001b[32m━━━━━━━━━━━━━━━━━━━━\u001b[0m\u001b[37m\u001b[0m \u001b[1m1922s\u001b[0m 1s/step - accuracy: 0.9895 - loss: 0.0751 - val_accuracy: 0.6220 - val_loss: 1.8307\n",
      "Epoch 8/20\n",
      "\u001b[1m1858/1858\u001b[0m \u001b[32m━━━━━━━━━━━━━━━━━━━━\u001b[0m\u001b[37m\u001b[0m \u001b[1m1920s\u001b[0m 1s/step - accuracy: 0.9902 - loss: 0.0710 - val_accuracy: 0.6203 - val_loss: 1.8697\n",
      "Epoch 9/20\n",
      "\u001b[1m1858/1858\u001b[0m \u001b[32m━━━━━━━━━━━━━━━━━━━━\u001b[0m\u001b[37m\u001b[0m \u001b[1m1923s\u001b[0m 1s/step - accuracy: 0.9910 - loss: 0.0619 - val_accuracy: 0.6047 - val_loss: 1.9481\n",
      "Epoch 10/20\n",
      "\u001b[1m1858/1858\u001b[0m \u001b[32m━━━━━━━━━━━━━━━━━━━━\u001b[0m\u001b[37m\u001b[0m \u001b[1m1928s\u001b[0m 1s/step - accuracy: 0.9909 - loss: 0.0620 - val_accuracy: 0.6194 - val_loss: 1.9430\n",
      "Epoch 11/20\n",
      "\u001b[1m1858/1858\u001b[0m \u001b[32m━━━━━━━━━━━━━━━━━━━━\u001b[0m\u001b[37m\u001b[0m \u001b[1m1921s\u001b[0m 1s/step - accuracy: 0.9911 - loss: 0.0591 - val_accuracy: 0.6169 - val_loss: 1.9573\n",
      "Epoch 12/20\n",
      "\u001b[1m1858/1858\u001b[0m \u001b[32m━━━━━━━━━━━━━━━━━━━━\u001b[0m\u001b[37m\u001b[0m \u001b[1m1921s\u001b[0m 1s/step - accuracy: 0.9917 - loss: 0.0530 - val_accuracy: 0.6166 - val_loss: 1.9722\n",
      "Epoch 13/20\n",
      "\u001b[1m1858/1858\u001b[0m \u001b[32m━━━━━━━━━━━━━━━━━━━━\u001b[0m\u001b[37m\u001b[0m \u001b[1m1958s\u001b[0m 1s/step - accuracy: 0.9929 - loss: 0.0482 - val_accuracy: 0.6174 - val_loss: 2.0211\n",
      "Epoch 14/20\n",
      "\u001b[1m1858/1858\u001b[0m \u001b[32m━━━━━━━━━━━━━━━━━━━━\u001b[0m\u001b[37m\u001b[0m \u001b[1m2036s\u001b[0m 1s/step - accuracy: 0.9922 - loss: 0.0504 - val_accuracy: 0.6142 - val_loss: 2.0595\n",
      "Epoch 15/20\n",
      "\u001b[1m1858/1858\u001b[0m \u001b[32m━━━━━━━━━━━━━━━━━━━━\u001b[0m\u001b[37m\u001b[0m \u001b[1m2029s\u001b[0m 1s/step - accuracy: 0.9926 - loss: 0.0458 - val_accuracy: 0.6157 - val_loss: 2.0912\n",
      "Epoch 16/20\n",
      "\u001b[1m1858/1858\u001b[0m \u001b[32m━━━━━━━━━━━━━━━━━━━━\u001b[0m\u001b[37m\u001b[0m \u001b[1m2012s\u001b[0m 1s/step - accuracy: 0.9922 - loss: 0.0470 - val_accuracy: 0.6122 - val_loss: 2.1493\n",
      "Epoch 17/20\n",
      "\u001b[1m1858/1858\u001b[0m \u001b[32m━━━━━━━━━━━━━━━━━━━━\u001b[0m\u001b[37m\u001b[0m \u001b[1m2016s\u001b[0m 1s/step - accuracy: 0.9930 - loss: 0.0430 - val_accuracy: 0.6151 - val_loss: 2.1501\n",
      "Epoch 18/20\n",
      "\u001b[1m1858/1858\u001b[0m \u001b[32m━━━━━━━━━━━━━━━━━━━━\u001b[0m\u001b[37m\u001b[0m \u001b[1m1997s\u001b[0m 1s/step - accuracy: 0.9928 - loss: 0.0428 - val_accuracy: 0.6082 - val_loss: 2.2037\n",
      "Epoch 19/20\n",
      "\u001b[1m1858/1858\u001b[0m \u001b[32m━━━━━━━━━━━━━━━━━━━━\u001b[0m\u001b[37m\u001b[0m \u001b[1m2048s\u001b[0m 1s/step - accuracy: 0.9923 - loss: 0.0477 - val_accuracy: 0.6177 - val_loss: 2.1494\n",
      "Epoch 20/20\n",
      "\u001b[1m1858/1858\u001b[0m \u001b[32m━━━━━━━━━━━━━━━━━━━━\u001b[0m\u001b[37m\u001b[0m \u001b[1m2114s\u001b[0m 1s/step - accuracy: 0.9930 - loss: 0.0421 - val_accuracy: 0.6174 - val_loss: 2.1964\n",
      "\u001b[1m399/399\u001b[0m \u001b[32m━━━━━━━━━━━━━━━━━━━━\u001b[0m\u001b[37m\u001b[0m \u001b[1m357s\u001b[0m 894ms/step\n",
      "\u001b[1m399/399\u001b[0m \u001b[32m━━━━━━━━━━━━━━━━━━━━\u001b[0m\u001b[37m\u001b[0m \u001b[1m362s\u001b[0m 906ms/step - accuracy: 0.5987 - loss: 2.2730\n"
     ]
    },
    {
     "name": "stderr",
     "output_type": "stream",
     "text": [
      "WARNING:absl:You are saving your model as an HDF5 file via `model.save()` or `keras.saving.save_model(model)`. This file format is considered legacy. We recommend using instead the native Keras format, e.g. `model.save('my_model.keras')` or `keras.saving.save_model(model, 'my_model.keras')`. \n"
     ]
    },
    {
     "name": "stdout",
     "output_type": "stream",
     "text": [
      "Test accuracy: 61.30%\n",
      "F1-score (macro) sur les données de validation : 0.5651\n"
     ]
    }
   ],
   "source": [
    "# Entraînement\n",
    "model.fit(\n",
    "    train_data,\n",
    "    validation_data=val_data,\n",
    "    epochs=20\n",
    ")\n",
    "\n",
    "# Prédictions\n",
    "y_true = test_data.classes  \n",
    "y_pred_probs = model.predict(test_data)\n",
    "y_pred = np.argmax(y_pred_probs, axis=1)\n",
    "\n",
    "# Évaluation sur le test\n",
    "loss, acc = model.evaluate(test_data)\n",
    "print(f\"Test accuracy: {acc:.2%}\")\n",
    "# F1-score macro\n",
    "f1 = f1_score(y_true, y_pred, average='macro')\n",
    "print(f\"F1-score (macro) sur les données de validation : {f1:.4f}\")\n",
    "\n",
    "# Sauvegarde du modèle\n",
    "model.save('resnet50_rakuten1.h5')\n"
   ]
  },
  {
   "cell_type": "code",
   "execution_count": null,
   "id": "1d2a8f25-211f-42e0-8633-f1c0494bf139",
   "metadata": {},
   "outputs": [],
   "source": []
  },
  {
   "cell_type": "markdown",
   "id": "6884f29d-e945-4e89-9e1e-91756720f348",
   "metadata": {},
   "source": [
    "## Calcul du F1-score moyen (macro, micro ou weighted selon le besoin)"
   ]
  },
  {
   "cell_type": "code",
   "execution_count": 20,
   "id": "614df485-05ac-45f7-aaf4-7d898ef9d0ca",
   "metadata": {},
   "outputs": [
    {
     "name": "stderr",
     "output_type": "stream",
     "text": [
      "WARNING:absl:Compiled the loaded model, but the compiled metrics have yet to be built. `model.compile_metrics` will be empty until you train or evaluate the model.\n"
     ]
    }
   ],
   "source": [
    "MODEL_PATH = 'resnet50_rakuten1.h5'\n",
    "model1 = load_model(MODEL_PATH)"
   ]
  },
  {
   "cell_type": "code",
   "execution_count": 21,
   "id": "a7152fbb-5763-4a49-8bd8-f14608322e25",
   "metadata": {},
   "outputs": [
    {
     "name": "stderr",
     "output_type": "stream",
     "text": [
      "C:\\Users\\Bureau\\Desktop\\projetRakuten\\venv\\Lib\\site-packages\\keras\\src\\trainers\\data_adapters\\py_dataset_adapter.py:121: UserWarning: Your `PyDataset` class should call `super().__init__(**kwargs)` in its constructor. `**kwargs` can include `workers`, `use_multiprocessing`, `max_queue_size`. Do not pass these arguments to `fit()`, as they will be ignored.\n",
      "  self._warn_if_super_not_called()\n"
     ]
    },
    {
     "name": "stdout",
     "output_type": "stream",
     "text": [
      "\u001b[1m399/399\u001b[0m \u001b[32m━━━━━━━━━━━━━━━━━━━━\u001b[0m\u001b[37m\u001b[0m \u001b[1m558s\u001b[0m 1s/step\n",
      "\u001b[1m399/399\u001b[0m \u001b[32m━━━━━━━━━━━━━━━━━━━━\u001b[0m\u001b[37m\u001b[0m \u001b[1m563s\u001b[0m 1s/step - accuracy: 0.5987 - loss: 2.2730\n",
      "Test accuracy: 61.30%\n",
      "F1-score moyen macro: 0.5650510634519045\n",
      "F1-score moyen micro: 0.6130475741874706\n",
      "F1-score moyen weighted: 0.6087380352752294\n"
     ]
    }
   ],
   "source": [
    "# Prédictions\n",
    "y_true = test_data.classes  # les vraies classes (entiers)\n",
    "y_pred_probs = model1.predict(test_data)\n",
    "y_pred = np.argmax(y_pred_probs, axis=1)\n",
    "\n",
    "# Évaluation sur le test\n",
    "loss, acc = model1.evaluate(test_data)\n",
    "print(f\"Test accuracy: {acc:.2%}\")\n",
    "# F1-score :\n",
    "for f1_sc in [\"macro\", \"micro\", \"weighted\"]:\n",
    "    f1 = f1_score(y_true, y_pred, average=f1_sc)  \n",
    "    print(f\"F1-score moyen {f1_sc}:\", f1)"
   ]
  },
  {
   "cell_type": "code",
   "execution_count": null,
   "id": "6a4317ac-b15f-40f6-b155-9321238329bb",
   "metadata": {},
   "outputs": [],
   "source": []
  },
  {
   "cell_type": "code",
   "execution_count": null,
   "id": "5a2458b6-636d-4198-ae7d-ac77bcbe1a69",
   "metadata": {},
   "outputs": [],
   "source": []
  }
 ],
 "metadata": {
  "kernelspec": {
   "display_name": "Python 3 (ipykernel)",
   "language": "python",
   "name": "python3"
  },
  "language_info": {
   "codemirror_mode": {
    "name": "ipython",
    "version": 3
   },
   "file_extension": ".py",
   "mimetype": "text/x-python",
   "name": "python",
   "nbconvert_exporter": "python",
   "pygments_lexer": "ipython3",
   "version": "3.12.7"
  }
 },
 "nbformat": 4,
 "nbformat_minor": 5
}
