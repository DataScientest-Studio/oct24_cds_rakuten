{
 "cells": [
  {
   "cell_type": "code",
   "execution_count": 1,
   "id": "c74fde55-e8be-4e55-9f9b-015c3b15ee80",
   "metadata": {},
   "outputs": [
    {
     "name": "stderr",
     "output_type": "stream",
     "text": [
      "C:\\Users\\Bureau\\AppData\\Local\\Temp\\ipykernel_3768\\650880806.py:15: DeprecationWarning: `import kerastuner` is deprecated, please use `import keras_tuner`.\n",
      "  from kerastuner.tuners import RandomSearch\n"
     ]
    }
   ],
   "source": [
    "import re\n",
    "import time\n",
    "import pandas as pd\n",
    "import numpy as np\n",
    "from nltk.corpus import stopwords\n",
    "from sklearn.model_selection import train_test_split\n",
    "from tensorflow.keras.models import Sequential\n",
    "from sklearn.metrics import accuracy_score, f1_score, confusion_matrix, classification_report\n",
    "from tensorflow.keras.layers import Embedding, Conv1D, GlobalMaxPooling1D, Dense, Dropout\n",
    "from tensorflow.keras.preprocessing.text import Tokenizer\n",
    "from tensorflow.keras.preprocessing.sequence import pad_sequences\n",
    "from tensorflow.keras.utils import to_categorical\n",
    "from sklearn.model_selection import KFold\n",
    "from sklearn.preprocessing import LabelEncoder\n",
    "from kerastuner.tuners import RandomSearch\n",
    "from tensorflow.keras.optimizers import Adam\n",
    "from kerastuner.tuners import RandomSearch"
   ]
  },
  {
   "cell_type": "markdown",
   "id": "caa54e11-7d1c-4792-960d-336608faa385",
   "metadata": {},
   "source": [
    "# Chargement des données et préprocessing"
   ]
  },
  {
   "cell_type": "code",
   "execution_count": 2,
   "id": "55ed580e-1012-4254-83cf-cf302c135f1c",
   "metadata": {},
   "outputs": [],
   "source": [
    "# Chargement des données\n",
    "df=pd.read_csv('X_train_update.csv')\n",
    "df1=pd.read_csv(\"y_train_CVw08PX.csv\")"
   ]
  },
  {
   "cell_type": "code",
   "execution_count": 3,
   "id": "ca44412e-094a-41fd-a870-8fdf5a405974",
   "metadata": {},
   "outputs": [],
   "source": [
    "# Préprosessing des données\n",
    "## Codage de la colone prdttype de 1 à 27\n",
    "l=[]\n",
    "for mm in df1.prdtypecode:\n",
    "    if mm not in l :\n",
    "        l.append(mm)\n",
    "l.sort()\n",
    "for i, j in enumerate(l) :\n",
    "    for mmm in df1.prdtypecode :\n",
    "        if mmm==j:\n",
    "            df1[df1.prdtypecode==mmm]=i+1\n",
    "\n",
    "## Regroupement de la variable description et designation             \n",
    "df[\"description\"] = (df[\"designation\"].fillna('') + \" \" + df[\"description\"].fillna('')).str.lower()\n",
    "df[\"categ\"] = df1.prdtypecode\n",
    "\n",
    "##Nétoyage\n",
    "stop_words = set([\n",
    "    \"le\", \"la\", \"les\", \"de\", \"du\", \"des\", \"et\", \"en\", \"un\", \"une\", \"pour\", \n",
    "    \"avec\", \"dans\", \"par\", \"sur\", \"au\", \"aux\", \"ce\", \"ces\", \"se\", \"ses\", \n",
    "    \"est\", \"qui\", \"que\", \"dont\", \"ou\", \"à\", \"son\", \"sa\", \"leurs\", \"comme\"\n",
    "])\n",
    "stop_words_fr = set(stopwords.words(\"french\"))\n",
    "stop_words_en = set(stopwords.words(\"english\"))\n",
    "stop_words_de = set(stopwords.words(\"german\"))\n",
    "stop_words_es = set(stopwords.words(\"spanish\"))\n",
    "stop_words_it = set(stopwords.words(\"italian\"))\n",
    "stop_words_pt = set(stopwords.words(\"portuguese\"))\n",
    "stop_words_misc = set([\"br\", \"li\", \"x\", \"p\", \"ul\", \"div\", \"strong\", \"nbsp\", \"eacute\", \"amp\", ])  # Mots divers à ignorer\n",
    "\n",
    "# Fusionner les stopwords\n",
    "stop_words_all = stop_words_fr | stop_words_en | stop_words_de | stop_words_es | stop_words_it | stop_words_pt | stop_words_misc | stop_words\n",
    "\n",
    "##\n",
    "def nettoyer_texte(texte):\n",
    "    texte = str(texte).lower()  # On met en minuscule\n",
    "    texte = re.sub(r'\\d+', '', texte)  # On supprine les chiffres\n",
    "    texte = re.sub(r'\\W+', ' ', texte)  # On supprime la ponctuation et caractères spéciaux\n",
    "    texte = ' '.join([mot for mot in texte.split() if mot not in stop_words_all])  # On supprime les stopwords personnalisés\n",
    "    return texte\n",
    "##     \n",
    "df['description'] = df['description'].apply(nettoyer_texte)"
   ]
  },
  {
   "cell_type": "markdown",
   "id": "1588627c-2c13-499e-b45c-b4617a265b7f",
   "metadata": {},
   "source": [
    "# Modèle simple"
   ]
  },
  {
   "cell_type": "code",
   "execution_count": 4,
   "id": "e68ec4f4-4225-4d2e-824e-e67302d097e5",
   "metadata": {},
   "outputs": [],
   "source": [
    "# Stokons dans X les variables explicatives et dans y la variable cible.\n",
    "X=df.description\n",
    "y=df.categ"
   ]
  },
  {
   "cell_type": "code",
   "execution_count": 5,
   "id": "129b74d4-94b8-4f36-a55b-0f0b136b780d",
   "metadata": {
    "editable": true,
    "slideshow": {
     "slide_type": ""
    },
    "tags": []
   },
   "outputs": [],
   "source": [
    "#  Paramètres\n",
    "max_vocab_size = 20000  # Vocabulaire maximum\n",
    "max_sequence_length = 200  # Longueur des séquences\n",
    "embedding_dim = 100  # Dimension de l'embedding\n",
    "\n",
    "#  Tokenisation\n",
    "tokenizer = Tokenizer(num_words=max_vocab_size)\n",
    "tokenizer.fit_on_texts(X)\n",
    "sequences = tokenizer.texts_to_sequences(X)\n",
    "\n",
    "X1 = pad_sequences(sequences, maxlen=max_sequence_length)\n",
    "\n",
    "X1 = np.array(X1)\n",
    "y1 = np.array(y)\n",
    "\n",
    "#  Séparons les données en un ensemble d'apprentissage et un ensemble de test (20%)\n",
    "X_train, X_test, y_train, y_test = train_test_split(X1, y1, test_size=0.2, random_state=42)\n"
   ]
  },
  {
   "cell_type": "code",
   "execution_count": 6,
   "id": "8ce09f68-986d-45a4-b136-ca5c49ab2160",
   "metadata": {},
   "outputs": [
    {
     "name": "stdout",
     "output_type": "stream",
     "text": [
      "Epoch 1/20\n"
     ]
    },
    {
     "name": "stderr",
     "output_type": "stream",
     "text": [
      "C:\\Users\\Bureau\\Desktop\\projetRakuten\\venv\\Lib\\site-packages\\keras\\src\\layers\\core\\embedding.py:90: UserWarning: Argument `input_length` is deprecated. Just remove it.\n",
      "  warnings.warn(\n"
     ]
    },
    {
     "name": "stdout",
     "output_type": "stream",
     "text": [
      "\u001b[1m478/478\u001b[0m \u001b[32m━━━━━━━━━━━━━━━━━━━━\u001b[0m\u001b[37m\u001b[0m \u001b[1m22s\u001b[0m 43ms/step - accuracy: 0.0385 - loss: -73846960.0000 - val_accuracy: 0.0365 - val_loss: -2245763072.0000\n",
      "Epoch 2/20\n",
      "\u001b[1m478/478\u001b[0m \u001b[32m━━━━━━━━━━━━━━━━━━━━\u001b[0m\u001b[37m\u001b[0m \u001b[1m20s\u001b[0m 42ms/step - accuracy: 0.0361 - loss: -6993678848.0000 - val_accuracy: 0.0365 - val_loss: -38484566016.0000\n",
      "Epoch 3/20\n",
      "\u001b[1m478/478\u001b[0m \u001b[32m━━━━━━━━━━━━━━━━━━━━\u001b[0m\u001b[37m\u001b[0m \u001b[1m20s\u001b[0m 41ms/step - accuracy: 0.0379 - loss: -63292166144.0000 - val_accuracy: 0.0365 - val_loss: -178506006528.0000\n",
      "Epoch 4/20\n",
      "\u001b[1m478/478\u001b[0m \u001b[32m━━━━━━━━━━━━━━━━━━━━\u001b[0m\u001b[37m\u001b[0m \u001b[1m21s\u001b[0m 43ms/step - accuracy: 0.0376 - loss: -242951471104.0000 - val_accuracy: 0.0365 - val_loss: -502976806912.0000\n",
      "Epoch 5/20\n",
      "\u001b[1m478/478\u001b[0m \u001b[32m━━━━━━━━━━━━━━━━━━━━\u001b[0m\u001b[37m\u001b[0m \u001b[1m20s\u001b[0m 43ms/step - accuracy: 0.0367 - loss: -624233611264.0000 - val_accuracy: 0.0365 - val_loss: -1089533509632.0000\n",
      "Epoch 6/20\n",
      "\u001b[1m478/478\u001b[0m \u001b[32m━━━━━━━━━━━━━━━━━━━━\u001b[0m\u001b[37m\u001b[0m \u001b[1m20s\u001b[0m 42ms/step - accuracy: 0.0381 - loss: -1282402549760.0000 - val_accuracy: 0.0365 - val_loss: -2015576719360.0000\n",
      "Epoch 7/20\n",
      "\u001b[1m478/478\u001b[0m \u001b[32m━━━━━━━━━━━━━━━━━━━━\u001b[0m\u001b[37m\u001b[0m \u001b[1m20s\u001b[0m 42ms/step - accuracy: 0.0379 - loss: -2307083468800.0000 - val_accuracy: 0.0365 - val_loss: -3353774391296.0000\n",
      "Epoch 8/20\n",
      "\u001b[1m478/478\u001b[0m \u001b[32m━━━━━━━━━━━━━━━━━━━━\u001b[0m\u001b[37m\u001b[0m \u001b[1m21s\u001b[0m 43ms/step - accuracy: 0.0384 - loss: -3745183170560.0000 - val_accuracy: 0.0365 - val_loss: -5175240556544.0000\n",
      "Epoch 9/20\n",
      "\u001b[1m478/478\u001b[0m \u001b[32m━━━━━━━━━━━━━━━━━━━━\u001b[0m\u001b[37m\u001b[0m \u001b[1m20s\u001b[0m 42ms/step - accuracy: 0.0364 - loss: -5680315498496.0000 - val_accuracy: 0.0365 - val_loss: -7552310968320.0000\n",
      "Epoch 10/20\n",
      "\u001b[1m478/478\u001b[0m \u001b[32m━━━━━━━━━━━━━━━━━━━━\u001b[0m\u001b[37m\u001b[0m \u001b[1m20s\u001b[0m 43ms/step - accuracy: 0.0375 - loss: -8181812559872.0000 - val_accuracy: 0.0365 - val_loss: -10558303633408.0000\n",
      "Epoch 11/20\n",
      "\u001b[1m478/478\u001b[0m \u001b[32m━━━━━━━━━━━━━━━━━━━━\u001b[0m\u001b[37m\u001b[0m \u001b[1m20s\u001b[0m 43ms/step - accuracy: 0.0360 - loss: -11336687812608.0000 - val_accuracy: 0.0365 - val_loss: -14273200783360.0000\n",
      "Epoch 12/20\n",
      "\u001b[1m478/478\u001b[0m \u001b[32m━━━━━━━━━━━━━━━━━━━━\u001b[0m\u001b[37m\u001b[0m \u001b[1m20s\u001b[0m 42ms/step - accuracy: 0.0366 - loss: -15259844739072.0000 - val_accuracy: 0.0365 - val_loss: -18761780297728.0000\n",
      "Epoch 13/20\n",
      "\u001b[1m478/478\u001b[0m \u001b[32m━━━━━━━━━━━━━━━━━━━━\u001b[0m\u001b[37m\u001b[0m \u001b[1m20s\u001b[0m 42ms/step - accuracy: 0.0388 - loss: -19817685843968.0000 - val_accuracy: 0.0365 - val_loss: -24108605636608.0000\n",
      "Epoch 14/20\n",
      "\u001b[1m478/478\u001b[0m \u001b[32m━━━━━━━━━━━━━━━━━━━━\u001b[0m\u001b[37m\u001b[0m \u001b[1m20s\u001b[0m 42ms/step - accuracy: 0.0359 - loss: -25329965989888.0000 - val_accuracy: 0.0365 - val_loss: -30412323684352.0000\n",
      "Epoch 15/20\n",
      "\u001b[1m478/478\u001b[0m \u001b[32m━━━━━━━━━━━━━━━━━━━━\u001b[0m\u001b[37m\u001b[0m \u001b[1m20s\u001b[0m 42ms/step - accuracy: 0.0358 - loss: -31899168800768.0000 - val_accuracy: 0.0365 - val_loss: -37720697077760.0000\n",
      "Epoch 16/20\n",
      "\u001b[1m478/478\u001b[0m \u001b[32m━━━━━━━━━━━━━━━━━━━━\u001b[0m\u001b[37m\u001b[0m \u001b[1m20s\u001b[0m 42ms/step - accuracy: 0.0368 - loss: -39440600793088.0000 - val_accuracy: 0.0365 - val_loss: -46154142187520.0000\n",
      "Epoch 17/20\n",
      "\u001b[1m478/478\u001b[0m \u001b[32m━━━━━━━━━━━━━━━━━━━━\u001b[0m\u001b[37m\u001b[0m \u001b[1m20s\u001b[0m 43ms/step - accuracy: 0.0373 - loss: -48157060759552.0000 - val_accuracy: 0.0365 - val_loss: -55807383175168.0000\n",
      "Epoch 18/20\n",
      "\u001b[1m478/478\u001b[0m \u001b[32m━━━━━━━━━━━━━━━━━━━━\u001b[0m\u001b[37m\u001b[0m \u001b[1m20s\u001b[0m 42ms/step - accuracy: 0.0375 - loss: -57651559923712.0000 - val_accuracy: 0.0365 - val_loss: -66735784853504.0000\n",
      "Epoch 19/20\n",
      "\u001b[1m478/478\u001b[0m \u001b[32m━━━━━━━━━━━━━━━━━━━━\u001b[0m\u001b[37m\u001b[0m \u001b[1m20s\u001b[0m 42ms/step - accuracy: 0.0369 - loss: -69064873476096.0000 - val_accuracy: 0.0365 - val_loss: -79086982529024.0000\n",
      "Epoch 20/20\n",
      "\u001b[1m478/478\u001b[0m \u001b[32m━━━━━━━━━━━━━━━━━━━━\u001b[0m\u001b[37m\u001b[0m \u001b[1m20s\u001b[0m 42ms/step - accuracy: 0.0372 - loss: -81839276425216.0000 - val_accuracy: 0.0365 - val_loss: -92924444409856.0000\n"
     ]
    },
    {
     "data": {
      "text/plain": [
       "<keras.src.callbacks.history.History at 0x201a1914920>"
      ]
     },
     "execution_count": 6,
     "metadata": {},
     "output_type": "execute_result"
    }
   ],
   "source": [
    "\n",
    "# Modèle CNN\n",
    "model = Sequential([\n",
    "    Embedding(input_dim=max_vocab_size, output_dim=embedding_dim, input_length=max_sequence_length),\n",
    "    Conv1D(128, 5, activation='relu'),\n",
    "    GlobalMaxPooling1D(),\n",
    "    Dense(64, activation='relu'),\n",
    "    Dropout(0.5),\n",
    "    Dense(1, activation='sigmoid')  # Binaire\n",
    "])\n",
    "\n",
    "\n",
    "\n",
    "# Compilation\n",
    "model.compile(optimizer='adam', loss='binary_crossentropy', metrics=['accuracy'])\n",
    "\n",
    "# Entraînement\n",
    "model.fit(X_train, y_train, epochs=20, batch_size=128, validation_split=0.1)\n"
   ]
  },
  {
   "cell_type": "code",
   "execution_count": 7,
   "id": "4693fa35-b994-485b-a268-ecfdc3c8fa2a",
   "metadata": {},
   "outputs": [
    {
     "name": "stdout",
     "output_type": "stream",
     "text": [
      "\u001b[1m531/531\u001b[0m \u001b[32m━━━━━━━━━━━━━━━━━━━━\u001b[0m\u001b[37m\u001b[0m \u001b[1m2s\u001b[0m 3ms/step\n",
      "\u001b[1m531/531\u001b[0m \u001b[32m━━━━━━━━━━━━━━━━━━━━\u001b[0m\u001b[37m\u001b[0m \u001b[1m2s\u001b[0m 3ms/step - accuracy: 0.0363 - loss: -91791067971584.0000\n",
      "Test Accuracy: 0.0360\n",
      "F1-score moyen macro: 0.0025763431082821853\n",
      "F1-score moyen micro: 0.03603391427225624\n",
      "F1-score moyen weighted: 0.002506564620893478\n"
     ]
    }
   ],
   "source": [
    "# Évaluation\n",
    "y_pred=model.predict(X_test)\n",
    "loss, acc = model.evaluate(X_test, y_test)\n",
    "print(f\"Test Accuracy: {acc:.4f}\")\n",
    "\n",
    "# Calcul du F1-score moyen (macro, micro ou weighted selon ton besoin)\n",
    "for f1_sc in [\"macro\", \"micro\", \"weighted\"]:\n",
    "    f1 = f1_score(y_test, y_pred, average=f1_sc)  \n",
    "    print(f\"F1-score moyen {f1_sc}:\", f1)"
   ]
  },
  {
   "cell_type": "markdown",
   "id": "aa27eeb7-b930-45ca-a22f-dbd61c8b3a08",
   "metadata": {},
   "source": [
    "Les performances sont de très mauvaises, nous allons approfondire par une cross-validation. "
   ]
  },
  {
   "cell_type": "markdown",
   "id": "154a255f-6e66-424d-847c-7f555782e42b",
   "metadata": {},
   "source": [
    "# Cross-validation"
   ]
  },
  {
   "cell_type": "code",
   "execution_count": 8,
   "id": "4c259b0f-a173-4a2f-b658-6c297fe7ec50",
   "metadata": {},
   "outputs": [
    {
     "name": "stdout",
     "output_type": "stream",
     "text": [
      "\n",
      " Fold 1\n",
      "Epoch 1/20\n"
     ]
    },
    {
     "name": "stderr",
     "output_type": "stream",
     "text": [
      "C:\\Users\\Bureau\\Desktop\\projetRakuten\\venv\\Lib\\site-packages\\keras\\src\\layers\\core\\embedding.py:90: UserWarning: Argument `input_length` is deprecated. Just remove it.\n",
      "  warnings.warn(\n"
     ]
    },
    {
     "name": "stdout",
     "output_type": "stream",
     "text": [
      "\u001b[1m531/531\u001b[0m \u001b[32m━━━━━━━━━━━━━━━━━━━━\u001b[0m\u001b[37m\u001b[0m \u001b[1m22s\u001b[0m 40ms/step - accuracy: 0.3212 - loss: 2.3837\n",
      "Epoch 2/20\n",
      "\u001b[1m531/531\u001b[0m \u001b[32m━━━━━━━━━━━━━━━━━━━━\u001b[0m\u001b[37m\u001b[0m \u001b[1m22s\u001b[0m 41ms/step - accuracy: 0.7516 - loss: 0.8597\n",
      "Epoch 3/20\n",
      "\u001b[1m531/531\u001b[0m \u001b[32m━━━━━━━━━━━━━━━━━━━━\u001b[0m\u001b[37m\u001b[0m \u001b[1m21s\u001b[0m 40ms/step - accuracy: 0.8305 - loss: 0.5877\n",
      "Epoch 4/20\n",
      "\u001b[1m531/531\u001b[0m \u001b[32m━━━━━━━━━━━━━━━━━━━━\u001b[0m\u001b[37m\u001b[0m \u001b[1m21s\u001b[0m 40ms/step - accuracy: 0.8701 - loss: 0.4515\n",
      "Epoch 5/20\n",
      "\u001b[1m531/531\u001b[0m \u001b[32m━━━━━━━━━━━━━━━━━━━━\u001b[0m\u001b[37m\u001b[0m \u001b[1m22s\u001b[0m 40ms/step - accuracy: 0.8983 - loss: 0.3474\n",
      "Epoch 6/20\n",
      "\u001b[1m531/531\u001b[0m \u001b[32m━━━━━━━━━━━━━━━━━━━━\u001b[0m\u001b[37m\u001b[0m \u001b[1m21s\u001b[0m 40ms/step - accuracy: 0.9192 - loss: 0.2730\n",
      "Epoch 7/20\n",
      "\u001b[1m531/531\u001b[0m \u001b[32m━━━━━━━━━━━━━━━━━━━━\u001b[0m\u001b[37m\u001b[0m \u001b[1m21s\u001b[0m 40ms/step - accuracy: 0.9353 - loss: 0.2171\n",
      "Epoch 8/20\n",
      "\u001b[1m531/531\u001b[0m \u001b[32m━━━━━━━━━━━━━━━━━━━━\u001b[0m\u001b[37m\u001b[0m \u001b[1m21s\u001b[0m 40ms/step - accuracy: 0.9467 - loss: 0.1785\n",
      "Epoch 9/20\n",
      "\u001b[1m531/531\u001b[0m \u001b[32m━━━━━━━━━━━━━━━━━━━━\u001b[0m\u001b[37m\u001b[0m \u001b[1m21s\u001b[0m 40ms/step - accuracy: 0.9541 - loss: 0.1526\n",
      "Epoch 10/20\n",
      "\u001b[1m531/531\u001b[0m \u001b[32m━━━━━━━━━━━━━━━━━━━━\u001b[0m\u001b[37m\u001b[0m \u001b[1m21s\u001b[0m 40ms/step - accuracy: 0.9599 - loss: 0.1315\n",
      "Epoch 11/20\n",
      "\u001b[1m531/531\u001b[0m \u001b[32m━━━━━━━━━━━━━━━━━━━━\u001b[0m\u001b[37m\u001b[0m \u001b[1m22s\u001b[0m 41ms/step - accuracy: 0.9642 - loss: 0.1201\n",
      "Epoch 12/20\n",
      "\u001b[1m531/531\u001b[0m \u001b[32m━━━━━━━━━━━━━━━━━━━━\u001b[0m\u001b[37m\u001b[0m \u001b[1m22s\u001b[0m 41ms/step - accuracy: 0.9675 - loss: 0.1041\n",
      "Epoch 13/20\n",
      "\u001b[1m531/531\u001b[0m \u001b[32m━━━━━━━━━━━━━━━━━━━━\u001b[0m\u001b[37m\u001b[0m \u001b[1m21s\u001b[0m 40ms/step - accuracy: 0.9701 - loss: 0.0963\n",
      "Epoch 14/20\n",
      "\u001b[1m531/531\u001b[0m \u001b[32m━━━━━━━━━━━━━━━━━━━━\u001b[0m\u001b[37m\u001b[0m \u001b[1m21s\u001b[0m 40ms/step - accuracy: 0.9729 - loss: 0.0908\n",
      "Epoch 15/20\n",
      "\u001b[1m531/531\u001b[0m \u001b[32m━━━━━━━━━━━━━━━━━━━━\u001b[0m\u001b[37m\u001b[0m \u001b[1m22s\u001b[0m 41ms/step - accuracy: 0.9747 - loss: 0.0826\n",
      "Epoch 16/20\n",
      "\u001b[1m531/531\u001b[0m \u001b[32m━━━━━━━━━━━━━━━━━━━━\u001b[0m\u001b[37m\u001b[0m \u001b[1m21s\u001b[0m 40ms/step - accuracy: 0.9757 - loss: 0.0763\n",
      "Epoch 17/20\n",
      "\u001b[1m531/531\u001b[0m \u001b[32m━━━━━━━━━━━━━━━━━━━━\u001b[0m\u001b[37m\u001b[0m \u001b[1m21s\u001b[0m 40ms/step - accuracy: 0.9773 - loss: 0.0733\n",
      "Epoch 18/20\n",
      "\u001b[1m531/531\u001b[0m \u001b[32m━━━━━━━━━━━━━━━━━━━━\u001b[0m\u001b[37m\u001b[0m \u001b[1m21s\u001b[0m 40ms/step - accuracy: 0.9779 - loss: 0.0703\n",
      "Epoch 19/20\n",
      "\u001b[1m531/531\u001b[0m \u001b[32m━━━━━━━━━━━━━━━━━━━━\u001b[0m\u001b[37m\u001b[0m \u001b[1m21s\u001b[0m 40ms/step - accuracy: 0.9798 - loss: 0.0658\n",
      "Epoch 20/20\n",
      "\u001b[1m531/531\u001b[0m \u001b[32m━━━━━━━━━━━━━━━━━━━━\u001b[0m\u001b[37m\u001b[0m \u001b[1m21s\u001b[0m 40ms/step - accuracy: 0.9803 - loss: 0.0628\n",
      " Fold 1 accuracy: 0.7973\n",
      "\u001b[1m531/531\u001b[0m \u001b[32m━━━━━━━━━━━━━━━━━━━━\u001b[0m\u001b[37m\u001b[0m \u001b[1m1s\u001b[0m 3ms/step\n",
      " Fold 1 F1-score pondéré: 0.7971\n",
      "\n",
      " Fold 2\n",
      "Epoch 1/20\n"
     ]
    },
    {
     "name": "stderr",
     "output_type": "stream",
     "text": [
      "C:\\Users\\Bureau\\Desktop\\projetRakuten\\venv\\Lib\\site-packages\\keras\\src\\layers\\core\\embedding.py:90: UserWarning: Argument `input_length` is deprecated. Just remove it.\n",
      "  warnings.warn(\n"
     ]
    },
    {
     "name": "stdout",
     "output_type": "stream",
     "text": [
      "\u001b[1m531/531\u001b[0m \u001b[32m━━━━━━━━━━━━━━━━━━━━\u001b[0m\u001b[37m\u001b[0m \u001b[1m22s\u001b[0m 40ms/step - accuracy: 0.3216 - loss: 2.3732\n",
      "Epoch 2/20\n",
      "\u001b[1m531/531\u001b[0m \u001b[32m━━━━━━━━━━━━━━━━━━━━\u001b[0m\u001b[37m\u001b[0m \u001b[1m21s\u001b[0m 40ms/step - accuracy: 0.7517 - loss: 0.8671\n",
      "Epoch 3/20\n",
      "\u001b[1m531/531\u001b[0m \u001b[32m━━━━━━━━━━━━━━━━━━━━\u001b[0m\u001b[37m\u001b[0m \u001b[1m21s\u001b[0m 40ms/step - accuracy: 0.8247 - loss: 0.5997\n",
      "Epoch 4/20\n",
      "\u001b[1m531/531\u001b[0m \u001b[32m━━━━━━━━━━━━━━━━━━━━\u001b[0m\u001b[37m\u001b[0m \u001b[1m21s\u001b[0m 40ms/step - accuracy: 0.8678 - loss: 0.4506\n",
      "Epoch 5/20\n",
      "\u001b[1m531/531\u001b[0m \u001b[32m━━━━━━━━━━━━━━━━━━━━\u001b[0m\u001b[37m\u001b[0m \u001b[1m21s\u001b[0m 40ms/step - accuracy: 0.8949 - loss: 0.3494\n",
      "Epoch 6/20\n",
      "\u001b[1m531/531\u001b[0m \u001b[32m━━━━━━━━━━━━━━━━━━━━\u001b[0m\u001b[37m\u001b[0m \u001b[1m21s\u001b[0m 40ms/step - accuracy: 0.9159 - loss: 0.2796\n",
      "Epoch 7/20\n",
      "\u001b[1m531/531\u001b[0m \u001b[32m━━━━━━━━━━━━━━━━━━━━\u001b[0m\u001b[37m\u001b[0m \u001b[1m21s\u001b[0m 40ms/step - accuracy: 0.9325 - loss: 0.2279\n",
      "Epoch 8/20\n",
      "\u001b[1m531/531\u001b[0m \u001b[32m━━━━━━━━━━━━━━━━━━━━\u001b[0m\u001b[37m\u001b[0m \u001b[1m22s\u001b[0m 40ms/step - accuracy: 0.9445 - loss: 0.1869\n",
      "Epoch 9/20\n",
      "\u001b[1m531/531\u001b[0m \u001b[32m━━━━━━━━━━━━━━━━━━━━\u001b[0m\u001b[37m\u001b[0m \u001b[1m22s\u001b[0m 41ms/step - accuracy: 0.9503 - loss: 0.1632\n",
      "Epoch 10/20\n",
      "\u001b[1m531/531\u001b[0m \u001b[32m━━━━━━━━━━━━━━━━━━━━\u001b[0m\u001b[37m\u001b[0m \u001b[1m22s\u001b[0m 42ms/step - accuracy: 0.9579 - loss: 0.1432\n",
      "Epoch 11/20\n",
      "\u001b[1m531/531\u001b[0m \u001b[32m━━━━━━━━━━━━━━━━━━━━\u001b[0m\u001b[37m\u001b[0m \u001b[1m22s\u001b[0m 41ms/step - accuracy: 0.9632 - loss: 0.1245\n",
      "Epoch 12/20\n",
      "\u001b[1m531/531\u001b[0m \u001b[32m━━━━━━━━━━━━━━━━━━━━\u001b[0m\u001b[37m\u001b[0m \u001b[1m22s\u001b[0m 41ms/step - accuracy: 0.9659 - loss: 0.1124\n",
      "Epoch 13/20\n",
      "\u001b[1m531/531\u001b[0m \u001b[32m━━━━━━━━━━━━━━━━━━━━\u001b[0m\u001b[37m\u001b[0m \u001b[1m22s\u001b[0m 41ms/step - accuracy: 0.9693 - loss: 0.1002\n",
      "Epoch 14/20\n",
      "\u001b[1m531/531\u001b[0m \u001b[32m━━━━━━━━━━━━━━━━━━━━\u001b[0m\u001b[37m\u001b[0m \u001b[1m22s\u001b[0m 41ms/step - accuracy: 0.9701 - loss: 0.0977\n",
      "Epoch 15/20\n",
      "\u001b[1m531/531\u001b[0m \u001b[32m━━━━━━━━━━━━━━━━━━━━\u001b[0m\u001b[37m\u001b[0m \u001b[1m22s\u001b[0m 41ms/step - accuracy: 0.9715 - loss: 0.0900\n",
      "Epoch 16/20\n",
      "\u001b[1m531/531\u001b[0m \u001b[32m━━━━━━━━━━━━━━━━━━━━\u001b[0m\u001b[37m\u001b[0m \u001b[1m22s\u001b[0m 41ms/step - accuracy: 0.9742 - loss: 0.0838\n",
      "Epoch 17/20\n",
      "\u001b[1m531/531\u001b[0m \u001b[32m━━━━━━━━━━━━━━━━━━━━\u001b[0m\u001b[37m\u001b[0m \u001b[1m22s\u001b[0m 41ms/step - accuracy: 0.9742 - loss: 0.0815\n",
      "Epoch 18/20\n",
      "\u001b[1m531/531\u001b[0m \u001b[32m━━━━━━━━━━━━━━━━━━━━\u001b[0m\u001b[37m\u001b[0m \u001b[1m22s\u001b[0m 41ms/step - accuracy: 0.9771 - loss: 0.0737\n",
      "Epoch 19/20\n",
      "\u001b[1m531/531\u001b[0m \u001b[32m━━━━━━━━━━━━━━━━━━━━\u001b[0m\u001b[37m\u001b[0m \u001b[1m22s\u001b[0m 41ms/step - accuracy: 0.9773 - loss: 0.0747\n",
      "Epoch 20/20\n",
      "\u001b[1m531/531\u001b[0m \u001b[32m━━━━━━━━━━━━━━━━━━━━\u001b[0m\u001b[37m\u001b[0m \u001b[1m22s\u001b[0m 41ms/step - accuracy: 0.9781 - loss: 0.0730\n",
      " Fold 2 accuracy: 0.7929\n",
      "\u001b[1m531/531\u001b[0m \u001b[32m━━━━━━━━━━━━━━━━━━━━\u001b[0m\u001b[37m\u001b[0m \u001b[1m2s\u001b[0m 3ms/step\n",
      " Fold 2 F1-score pondéré: 0.7934\n",
      "\n",
      " Fold 3\n",
      "Epoch 1/20\n"
     ]
    },
    {
     "name": "stderr",
     "output_type": "stream",
     "text": [
      "C:\\Users\\Bureau\\Desktop\\projetRakuten\\venv\\Lib\\site-packages\\keras\\src\\layers\\core\\embedding.py:90: UserWarning: Argument `input_length` is deprecated. Just remove it.\n",
      "  warnings.warn(\n"
     ]
    },
    {
     "name": "stdout",
     "output_type": "stream",
     "text": [
      "\u001b[1m531/531\u001b[0m \u001b[32m━━━━━━━━━━━━━━━━━━━━\u001b[0m\u001b[37m\u001b[0m \u001b[1m23s\u001b[0m 41ms/step - accuracy: 0.3188 - loss: 2.3788\n",
      "Epoch 2/20\n",
      "\u001b[1m531/531\u001b[0m \u001b[32m━━━━━━━━━━━━━━━━━━━━\u001b[0m\u001b[37m\u001b[0m \u001b[1m22s\u001b[0m 41ms/step - accuracy: 0.7473 - loss: 0.8790\n",
      "Epoch 3/20\n",
      "\u001b[1m531/531\u001b[0m \u001b[32m━━━━━━━━━━━━━━━━━━━━\u001b[0m\u001b[37m\u001b[0m \u001b[1m22s\u001b[0m 41ms/step - accuracy: 0.8271 - loss: 0.5973\n",
      "Epoch 4/20\n",
      "\u001b[1m531/531\u001b[0m \u001b[32m━━━━━━━━━━━━━━━━━━━━\u001b[0m\u001b[37m\u001b[0m \u001b[1m22s\u001b[0m 41ms/step - accuracy: 0.8726 - loss: 0.4464\n",
      "Epoch 5/20\n",
      "\u001b[1m531/531\u001b[0m \u001b[32m━━━━━━━━━━━━━━━━━━━━\u001b[0m\u001b[37m\u001b[0m \u001b[1m22s\u001b[0m 41ms/step - accuracy: 0.8985 - loss: 0.3465\n",
      "Epoch 6/20\n",
      "\u001b[1m531/531\u001b[0m \u001b[32m━━━━━━━━━━━━━━━━━━━━\u001b[0m\u001b[37m\u001b[0m \u001b[1m22s\u001b[0m 41ms/step - accuracy: 0.9219 - loss: 0.2634\n",
      "Epoch 7/20\n",
      "\u001b[1m531/531\u001b[0m \u001b[32m━━━━━━━━━━━━━━━━━━━━\u001b[0m\u001b[37m\u001b[0m \u001b[1m22s\u001b[0m 41ms/step - accuracy: 0.9359 - loss: 0.2187\n",
      "Epoch 8/20\n",
      "\u001b[1m531/531\u001b[0m \u001b[32m━━━━━━━━━━━━━━━━━━━━\u001b[0m\u001b[37m\u001b[0m \u001b[1m22s\u001b[0m 41ms/step - accuracy: 0.9479 - loss: 0.1782\n",
      "Epoch 9/20\n",
      "\u001b[1m531/531\u001b[0m \u001b[32m━━━━━━━━━━━━━━━━━━━━\u001b[0m\u001b[37m\u001b[0m \u001b[1m22s\u001b[0m 41ms/step - accuracy: 0.9546 - loss: 0.1528\n",
      "Epoch 10/20\n",
      "\u001b[1m531/531\u001b[0m \u001b[32m━━━━━━━━━━━━━━━━━━━━\u001b[0m\u001b[37m\u001b[0m \u001b[1m22s\u001b[0m 41ms/step - accuracy: 0.9597 - loss: 0.1330\n",
      "Epoch 11/20\n",
      "\u001b[1m531/531\u001b[0m \u001b[32m━━━━━━━━━━━━━━━━━━━━\u001b[0m\u001b[37m\u001b[0m \u001b[1m22s\u001b[0m 41ms/step - accuracy: 0.9649 - loss: 0.1175\n",
      "Epoch 12/20\n",
      "\u001b[1m531/531\u001b[0m \u001b[32m━━━━━━━━━━━━━━━━━━━━\u001b[0m\u001b[37m\u001b[0m \u001b[1m22s\u001b[0m 41ms/step - accuracy: 0.9681 - loss: 0.1064\n",
      "Epoch 13/20\n",
      "\u001b[1m531/531\u001b[0m \u001b[32m━━━━━━━━━━━━━━━━━━━━\u001b[0m\u001b[37m\u001b[0m \u001b[1m22s\u001b[0m 41ms/step - accuracy: 0.9707 - loss: 0.0981\n",
      "Epoch 14/20\n",
      "\u001b[1m531/531\u001b[0m \u001b[32m━━━━━━━━━━━━━━━━━━━━\u001b[0m\u001b[37m\u001b[0m \u001b[1m22s\u001b[0m 41ms/step - accuracy: 0.9714 - loss: 0.0929\n",
      "Epoch 15/20\n",
      "\u001b[1m531/531\u001b[0m \u001b[32m━━━━━━━━━━━━━━━━━━━━\u001b[0m\u001b[37m\u001b[0m \u001b[1m22s\u001b[0m 41ms/step - accuracy: 0.9736 - loss: 0.0863\n",
      "Epoch 16/20\n",
      "\u001b[1m531/531\u001b[0m \u001b[32m━━━━━━━━━━━━━━━━━━━━\u001b[0m\u001b[37m\u001b[0m \u001b[1m22s\u001b[0m 41ms/step - accuracy: 0.9748 - loss: 0.0830\n",
      "Epoch 17/20\n",
      "\u001b[1m531/531\u001b[0m \u001b[32m━━━━━━━━━━━━━━━━━━━━\u001b[0m\u001b[37m\u001b[0m \u001b[1m22s\u001b[0m 41ms/step - accuracy: 0.9761 - loss: 0.0774\n",
      "Epoch 18/20\n",
      "\u001b[1m531/531\u001b[0m \u001b[32m━━━━━━━━━━━━━━━━━━━━\u001b[0m\u001b[37m\u001b[0m \u001b[1m22s\u001b[0m 41ms/step - accuracy: 0.9762 - loss: 0.0738\n",
      "Epoch 19/20\n",
      "\u001b[1m531/531\u001b[0m \u001b[32m━━━━━━━━━━━━━━━━━━━━\u001b[0m\u001b[37m\u001b[0m \u001b[1m22s\u001b[0m 41ms/step - accuracy: 0.9765 - loss: 0.0719\n",
      "Epoch 20/20\n",
      "\u001b[1m531/531\u001b[0m \u001b[32m━━━━━━━━━━━━━━━━━━━━\u001b[0m\u001b[37m\u001b[0m \u001b[1m22s\u001b[0m 41ms/step - accuracy: 0.9790 - loss: 0.0674\n",
      " Fold 3 accuracy: 0.8037\n",
      "\u001b[1m531/531\u001b[0m \u001b[32m━━━━━━━━━━━━━━━━━━━━\u001b[0m\u001b[37m\u001b[0m \u001b[1m2s\u001b[0m 3ms/step\n",
      " Fold 3 F1-score pondéré: 0.8032\n",
      "\n",
      " Fold 4\n",
      "Epoch 1/20\n"
     ]
    },
    {
     "name": "stderr",
     "output_type": "stream",
     "text": [
      "C:\\Users\\Bureau\\Desktop\\projetRakuten\\venv\\Lib\\site-packages\\keras\\src\\layers\\core\\embedding.py:90: UserWarning: Argument `input_length` is deprecated. Just remove it.\n",
      "  warnings.warn(\n"
     ]
    },
    {
     "name": "stdout",
     "output_type": "stream",
     "text": [
      "\u001b[1m531/531\u001b[0m \u001b[32m━━━━━━━━━━━━━━━━━━━━\u001b[0m\u001b[37m\u001b[0m \u001b[1m23s\u001b[0m 42ms/step - accuracy: 0.3175 - loss: 2.4058\n",
      "Epoch 2/20\n",
      "\u001b[1m531/531\u001b[0m \u001b[32m━━━━━━━━━━━━━━━━━━━━\u001b[0m\u001b[37m\u001b[0m \u001b[1m22s\u001b[0m 41ms/step - accuracy: 0.7467 - loss: 0.8712\n",
      "Epoch 3/20\n",
      "\u001b[1m531/531\u001b[0m \u001b[32m━━━━━━━━━━━━━━━━━━━━\u001b[0m\u001b[37m\u001b[0m \u001b[1m22s\u001b[0m 41ms/step - accuracy: 0.8265 - loss: 0.6028\n",
      "Epoch 4/20\n",
      "\u001b[1m531/531\u001b[0m \u001b[32m━━━━━━━━━━━━━━━━━━━━\u001b[0m\u001b[37m\u001b[0m \u001b[1m22s\u001b[0m 41ms/step - accuracy: 0.8636 - loss: 0.4517\n",
      "Epoch 5/20\n",
      "\u001b[1m531/531\u001b[0m \u001b[32m━━━━━━━━━━━━━━━━━━━━\u001b[0m\u001b[37m\u001b[0m \u001b[1m22s\u001b[0m 41ms/step - accuracy: 0.8979 - loss: 0.3466\n",
      "Epoch 6/20\n",
      "\u001b[1m531/531\u001b[0m \u001b[32m━━━━━━━━━━━━━━━━━━━━\u001b[0m\u001b[37m\u001b[0m \u001b[1m22s\u001b[0m 41ms/step - accuracy: 0.9163 - loss: 0.2832\n",
      "Epoch 7/20\n",
      "\u001b[1m531/531\u001b[0m \u001b[32m━━━━━━━━━━━━━━━━━━━━\u001b[0m\u001b[37m\u001b[0m \u001b[1m22s\u001b[0m 41ms/step - accuracy: 0.9324 - loss: 0.2238\n",
      "Epoch 8/20\n",
      "\u001b[1m531/531\u001b[0m \u001b[32m━━━━━━━━━━━━━━━━━━━━\u001b[0m\u001b[37m\u001b[0m \u001b[1m22s\u001b[0m 41ms/step - accuracy: 0.9448 - loss: 0.1865\n",
      "Epoch 9/20\n",
      "\u001b[1m531/531\u001b[0m \u001b[32m━━━━━━━━━━━━━━━━━━━━\u001b[0m\u001b[37m\u001b[0m \u001b[1m22s\u001b[0m 41ms/step - accuracy: 0.9488 - loss: 0.1657\n",
      "Epoch 10/20\n",
      "\u001b[1m531/531\u001b[0m \u001b[32m━━━━━━━━━━━━━━━━━━━━\u001b[0m\u001b[37m\u001b[0m \u001b[1m22s\u001b[0m 42ms/step - accuracy: 0.9569 - loss: 0.1407\n",
      "Epoch 11/20\n",
      "\u001b[1m531/531\u001b[0m \u001b[32m━━━━━━━━━━━━━━━━━━━━\u001b[0m\u001b[37m\u001b[0m \u001b[1m22s\u001b[0m 41ms/step - accuracy: 0.9620 - loss: 0.1238\n",
      "Epoch 12/20\n",
      "\u001b[1m531/531\u001b[0m \u001b[32m━━━━━━━━━━━━━━━━━━━━\u001b[0m\u001b[37m\u001b[0m \u001b[1m22s\u001b[0m 41ms/step - accuracy: 0.9652 - loss: 0.1107\n",
      "Epoch 13/20\n",
      "\u001b[1m531/531\u001b[0m \u001b[32m━━━━━━━━━━━━━━━━━━━━\u001b[0m\u001b[37m\u001b[0m \u001b[1m22s\u001b[0m 41ms/step - accuracy: 0.9705 - loss: 0.1003\n",
      "Epoch 14/20\n",
      "\u001b[1m531/531\u001b[0m \u001b[32m━━━━━━━━━━━━━━━━━━━━\u001b[0m\u001b[37m\u001b[0m \u001b[1m22s\u001b[0m 42ms/step - accuracy: 0.9715 - loss: 0.0934\n",
      "Epoch 15/20\n",
      "\u001b[1m531/531\u001b[0m \u001b[32m━━━━━━━━━━━━━━━━━━━━\u001b[0m\u001b[37m\u001b[0m \u001b[1m22s\u001b[0m 42ms/step - accuracy: 0.9730 - loss: 0.0839\n",
      "Epoch 16/20\n",
      "\u001b[1m531/531\u001b[0m \u001b[32m━━━━━━━━━━━━━━━━━━━━\u001b[0m\u001b[37m\u001b[0m \u001b[1m22s\u001b[0m 41ms/step - accuracy: 0.9742 - loss: 0.0814\n",
      "Epoch 17/20\n",
      "\u001b[1m531/531\u001b[0m \u001b[32m━━━━━━━━━━━━━━━━━━━━\u001b[0m\u001b[37m\u001b[0m \u001b[1m22s\u001b[0m 41ms/step - accuracy: 0.9758 - loss: 0.0774\n",
      "Epoch 18/20\n",
      "\u001b[1m531/531\u001b[0m \u001b[32m━━━━━━━━━━━━━━━━━━━━\u001b[0m\u001b[37m\u001b[0m \u001b[1m22s\u001b[0m 42ms/step - accuracy: 0.9778 - loss: 0.0744\n",
      "Epoch 19/20\n",
      "\u001b[1m531/531\u001b[0m \u001b[32m━━━━━━━━━━━━━━━━━━━━\u001b[0m\u001b[37m\u001b[0m \u001b[1m22s\u001b[0m 42ms/step - accuracy: 0.9791 - loss: 0.0696\n",
      "Epoch 20/20\n",
      "\u001b[1m531/531\u001b[0m \u001b[32m━━━━━━━━━━━━━━━━━━━━\u001b[0m\u001b[37m\u001b[0m \u001b[1m22s\u001b[0m 41ms/step - accuracy: 0.9799 - loss: 0.0647\n",
      " Fold 4 accuracy: 0.7975\n",
      "\u001b[1m531/531\u001b[0m \u001b[32m━━━━━━━━━━━━━━━━━━━━\u001b[0m\u001b[37m\u001b[0m \u001b[1m2s\u001b[0m 3ms/step\n",
      " Fold 4 F1-score pondéré: 0.7980\n",
      "\n",
      " Fold 5\n",
      "Epoch 1/20\n"
     ]
    },
    {
     "name": "stderr",
     "output_type": "stream",
     "text": [
      "C:\\Users\\Bureau\\Desktop\\projetRakuten\\venv\\Lib\\site-packages\\keras\\src\\layers\\core\\embedding.py:90: UserWarning: Argument `input_length` is deprecated. Just remove it.\n",
      "  warnings.warn(\n"
     ]
    },
    {
     "name": "stdout",
     "output_type": "stream",
     "text": [
      "\u001b[1m531/531\u001b[0m \u001b[32m━━━━━━━━━━━━━━━━━━━━\u001b[0m\u001b[37m\u001b[0m \u001b[1m23s\u001b[0m 41ms/step - accuracy: 0.3193 - loss: 2.4045\n",
      "Epoch 2/20\n",
      "\u001b[1m531/531\u001b[0m \u001b[32m━━━━━━━━━━━━━━━━━━━━\u001b[0m\u001b[37m\u001b[0m \u001b[1m22s\u001b[0m 41ms/step - accuracy: 0.7508 - loss: 0.8656\n",
      "Epoch 3/20\n",
      "\u001b[1m531/531\u001b[0m \u001b[32m━━━━━━━━━━━━━━━━━━━━\u001b[0m\u001b[37m\u001b[0m \u001b[1m22s\u001b[0m 41ms/step - accuracy: 0.8315 - loss: 0.5796\n",
      "Epoch 4/20\n",
      "\u001b[1m531/531\u001b[0m \u001b[32m━━━━━━━━━━━━━━━━━━━━\u001b[0m\u001b[37m\u001b[0m \u001b[1m22s\u001b[0m 41ms/step - accuracy: 0.8699 - loss: 0.4453\n",
      "Epoch 5/20\n",
      "\u001b[1m531/531\u001b[0m \u001b[32m━━━━━━━━━━━━━━━━━━━━\u001b[0m\u001b[37m\u001b[0m \u001b[1m22s\u001b[0m 41ms/step - accuracy: 0.9018 - loss: 0.3404\n",
      "Epoch 6/20\n",
      "\u001b[1m531/531\u001b[0m \u001b[32m━━━━━━━━━━━━━━━━━━━━\u001b[0m\u001b[37m\u001b[0m \u001b[1m22s\u001b[0m 42ms/step - accuracy: 0.9195 - loss: 0.2716\n",
      "Epoch 7/20\n",
      "\u001b[1m531/531\u001b[0m \u001b[32m━━━━━━━━━━━━━━━━━━━━\u001b[0m\u001b[37m\u001b[0m \u001b[1m22s\u001b[0m 41ms/step - accuracy: 0.9359 - loss: 0.2161\n",
      "Epoch 8/20\n",
      "\u001b[1m531/531\u001b[0m \u001b[32m━━━━━━━━━━━━━━━━━━━━\u001b[0m\u001b[37m\u001b[0m \u001b[1m22s\u001b[0m 41ms/step - accuracy: 0.9466 - loss: 0.1804\n",
      "Epoch 9/20\n",
      "\u001b[1m531/531\u001b[0m \u001b[32m━━━━━━━━━━━━━━━━━━━━\u001b[0m\u001b[37m\u001b[0m \u001b[1m22s\u001b[0m 41ms/step - accuracy: 0.9552 - loss: 0.1535\n",
      "Epoch 10/20\n",
      "\u001b[1m531/531\u001b[0m \u001b[32m━━━━━━━━━━━━━━━━━━━━\u001b[0m\u001b[37m\u001b[0m \u001b[1m22s\u001b[0m 41ms/step - accuracy: 0.9598 - loss: 0.1354\n",
      "Epoch 11/20\n",
      "\u001b[1m531/531\u001b[0m \u001b[32m━━━━━━━━━━━━━━━━━━━━\u001b[0m\u001b[37m\u001b[0m \u001b[1m22s\u001b[0m 41ms/step - accuracy: 0.9641 - loss: 0.1178\n",
      "Epoch 12/20\n",
      "\u001b[1m531/531\u001b[0m \u001b[32m━━━━━━━━━━━━━━━━━━━━\u001b[0m\u001b[37m\u001b[0m \u001b[1m22s\u001b[0m 41ms/step - accuracy: 0.9661 - loss: 0.1093\n",
      "Epoch 13/20\n",
      "\u001b[1m531/531\u001b[0m \u001b[32m━━━━━━━━━━━━━━━━━━━━\u001b[0m\u001b[37m\u001b[0m \u001b[1m22s\u001b[0m 42ms/step - accuracy: 0.9720 - loss: 0.0960\n",
      "Epoch 14/20\n",
      "\u001b[1m531/531\u001b[0m \u001b[32m━━━━━━━━━━━━━━━━━━━━\u001b[0m\u001b[37m\u001b[0m \u001b[1m22s\u001b[0m 42ms/step - accuracy: 0.9704 - loss: 0.0926\n",
      "Epoch 15/20\n",
      "\u001b[1m531/531\u001b[0m \u001b[32m━━━━━━━━━━━━━━━━━━━━\u001b[0m\u001b[37m\u001b[0m \u001b[1m22s\u001b[0m 41ms/step - accuracy: 0.9725 - loss: 0.0894\n",
      "Epoch 16/20\n",
      "\u001b[1m531/531\u001b[0m \u001b[32m━━━━━━━━━━━━━━━━━━━━\u001b[0m\u001b[37m\u001b[0m \u001b[1m22s\u001b[0m 42ms/step - accuracy: 0.9752 - loss: 0.0802\n",
      "Epoch 17/20\n",
      "\u001b[1m531/531\u001b[0m \u001b[32m━━━━━━━━━━━━━━━━━━━━\u001b[0m\u001b[37m\u001b[0m \u001b[1m22s\u001b[0m 42ms/step - accuracy: 0.9753 - loss: 0.0777\n",
      "Epoch 18/20\n",
      "\u001b[1m531/531\u001b[0m \u001b[32m━━━━━━━━━━━━━━━━━━━━\u001b[0m\u001b[37m\u001b[0m \u001b[1m25s\u001b[0m 46ms/step - accuracy: 0.9775 - loss: 0.0742\n",
      "Epoch 19/20\n",
      "\u001b[1m531/531\u001b[0m \u001b[32m━━━━━━━━━━━━━━━━━━━━\u001b[0m\u001b[37m\u001b[0m \u001b[1m23s\u001b[0m 44ms/step - accuracy: 0.9787 - loss: 0.0692\n",
      "Epoch 20/20\n",
      "\u001b[1m531/531\u001b[0m \u001b[32m━━━━━━━━━━━━━━━━━━━━\u001b[0m\u001b[37m\u001b[0m \u001b[1m22s\u001b[0m 42ms/step - accuracy: 0.9786 - loss: 0.0670\n",
      " Fold 5 accuracy: 0.7954\n",
      "\u001b[1m531/531\u001b[0m \u001b[32m━━━━━━━━━━━━━━━━━━━━\u001b[0m\u001b[37m\u001b[0m \u001b[1m2s\u001b[0m 3ms/step\n",
      " Fold 5 F1-score pondéré: 0.7962\n",
      "\n",
      " Résultats par fold:\n",
      "Fold 1: Accuracy = 0.7973, F1-score pondéré = 0.7971\n",
      "Fold 2: Accuracy = 0.7929, F1-score pondéré = 0.7934\n",
      "Fold 3: Accuracy = 0.8037, F1-score pondéré = 0.8032\n",
      "Fold 4: Accuracy = 0.7975, F1-score pondéré = 0.7980\n",
      "Fold 5: Accuracy = 0.7954, F1-score pondéré = 0.7962\n",
      "\n",
      " Moyenne de l’accuracy : 0.7974\n",
      " Moyenne du F1-score pondéré : 0.7976\n"
     ]
    }
   ],
   "source": [
    "\n",
    "#  Données\n",
    "X=df.description.astype(str).tolist()\n",
    "#y=df.categ.values\n",
    "num_classes = len(np.unique(y))\n",
    "\n",
    "#  Encodage des labels\n",
    "\n",
    "\n",
    "label_encoder = LabelEncoder()\n",
    "y = label_encoder.fit_transform(y=df.categ)  # valeurs entre 0 et num_classes-1\n",
    "y_encoded = to_categorical(y)  # one-hot encoding\n",
    "\n",
    "#  Paramètres\n",
    "max_vocab_size = 20000\n",
    "max_sequence_length = 200\n",
    "embedding_dim = 100\n",
    "num_folds = 5\n",
    "\n",
    "# Tokenisation\n",
    "tokenizer = Tokenizer(num_words=max_vocab_size)\n",
    "tokenizer.fit_on_texts(X)\n",
    "sequences = tokenizer.texts_to_sequences(X)\n",
    "Xcnn = pad_sequences(sequences, maxlen=max_sequence_length)\n",
    "\n",
    "#  Cross-validation\n",
    "kf = KFold(n_splits=num_folds, shuffle=True, random_state=42)\n",
    "fold = 1\n",
    "acc_per_fold = []\n",
    "\n",
    "f1_per_fold = []\n",
    "\n",
    "for train_index, val_index in kf.split(Xcnn):\n",
    "    print(f\"\\n Fold {fold}\")\n",
    "    X_train, X_val = Xcnn[train_index], Xcnn[val_index]\n",
    "    y_train, y_val = y_encoded[train_index], y_encoded[val_index]\n",
    "\n",
    "    #  CNN modèle\n",
    "    model = Sequential([\n",
    "        Embedding(input_dim=max_vocab_size, output_dim=embedding_dim, input_length=max_sequence_length),\n",
    "        Conv1D(128, 5, activation='relu'),\n",
    "        GlobalMaxPooling1D(),\n",
    "        Dense(64, activation='relu'),\n",
    "        Dropout(0.5),\n",
    "        Dense(num_classes, activation='softmax')\n",
    "    ])\n",
    "\n",
    "    model.compile(optimizer='adam', loss='categorical_crossentropy', metrics=['accuracy'])\n",
    "\n",
    "    #  Entraînement\n",
    "    model.fit(X_train, y_train, epochs=20, batch_size=128, verbose=1)\n",
    "\n",
    "    #  Évaluation\n",
    "    scores = model.evaluate(X_val, y_val, verbose=0)\n",
    "    print(f\" Fold {fold} accuracy: {scores[1]:.4f}\")\n",
    "    acc_per_fold.append(scores[1])\n",
    "\n",
    "    # Prédictions\n",
    "    y_val_pred_probs = model.predict(X_val)\n",
    "    y_val_pred = np.argmax(y_val_pred_probs, axis=1)\n",
    "    y_val_true = np.argmax(y_val, axis=1)\n",
    "\n",
    "    # F1-score weighted\n",
    "    f1 = f1_score(y_val_true, y_val_pred, average='weighted')\n",
    "    print(f\" Fold {fold} F1-score pondéré: {f1:.4f}\")\n",
    "    f1_per_fold.append(f1)\n",
    "\n",
    "    fold += 1\n",
    "\n",
    "#  Résumé\n",
    "print(\"\\n Résultats par fold:\")\n",
    "for i, (acc, f1) in enumerate(zip(acc_per_fold, f1_per_fold)):\n",
    "    print(f\"Fold {i+1}: Accuracy = {acc:.4f}, F1-score pondéré = {f1:.4f}\")\n",
    "\n",
    "print(f\"\\n Moyenne de l’accuracy : {np.mean(acc_per_fold):.4f}\")\n",
    "print(f\" Moyenne du F1-score pondéré : {np.mean(f1_per_fold):.4f}\")"
   ]
  },
  {
   "cell_type": "code",
   "execution_count": null,
   "id": "55332151-d528-42c9-87f5-1cdca54debf2",
   "metadata": {},
   "outputs": [],
   "source": []
  },
  {
   "cell_type": "code",
   "execution_count": null,
   "id": "dc05c046-be2d-467d-b655-ee216dc5b25d",
   "metadata": {},
   "outputs": [],
   "source": []
  },
  {
   "cell_type": "code",
   "execution_count": null,
   "id": "4438b332-6eda-496a-940b-a13f74402314",
   "metadata": {},
   "outputs": [],
   "source": []
  },
  {
   "cell_type": "code",
   "execution_count": null,
   "id": "7761deb1-ffc2-4fd7-ace0-e0c6b67ee4e8",
   "metadata": {},
   "outputs": [],
   "source": []
  },
  {
   "cell_type": "code",
   "execution_count": null,
   "id": "9b5f1f2d-8925-4f15-abb9-e1ea5b5940e9",
   "metadata": {},
   "outputs": [],
   "source": []
  },
  {
   "cell_type": "code",
   "execution_count": null,
   "id": "42c0a0e8-4c50-4162-aa51-87cbff21c6ab",
   "metadata": {},
   "outputs": [],
   "source": []
  },
  {
   "cell_type": "code",
   "execution_count": null,
   "id": "39130929-6604-4961-b1a3-9f579f7089f1",
   "metadata": {},
   "outputs": [],
   "source": []
  },
  {
   "cell_type": "code",
   "execution_count": null,
   "id": "fdbf2dc3-a824-4ca5-960d-b358cf7e5e79",
   "metadata": {},
   "outputs": [],
   "source": []
  }
 ],
 "metadata": {
  "kernelspec": {
   "display_name": "Python 3 (ipykernel)",
   "language": "python",
   "name": "python3"
  },
  "language_info": {
   "codemirror_mode": {
    "name": "ipython",
    "version": 3
   },
   "file_extension": ".py",
   "mimetype": "text/x-python",
   "name": "python",
   "nbconvert_exporter": "python",
   "pygments_lexer": "ipython3",
   "version": "3.12.7"
  }
 },
 "nbformat": 4,
 "nbformat_minor": 5
}
