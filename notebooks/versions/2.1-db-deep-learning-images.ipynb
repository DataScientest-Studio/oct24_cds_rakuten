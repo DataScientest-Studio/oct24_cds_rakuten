{
  "cells": [
    {
      "cell_type": "markdown",
      "metadata": {
        "id": "e-XHaUX-l7TE"
      },
      "source": [
        "# Initialisation"
      ]
    },
    {
      "cell_type": "markdown",
      "metadata": {
        "id": "7S01a3aLLJHm"
      },
      "source": [
        "## Environnement, bibliothèques, local settings"
      ]
    },
    {
      "cell_type": "code",
      "execution_count": null,
      "metadata": {
        "collapsed": true,
        "id": "Ku50CgEKQb40",
        "colab": {
          "base_uri": "https://localhost:8080/"
        },
        "outputId": "cadc15fe-6241-48fd-e0de-d52b1aa16d40"
      },
      "outputs": [
        {
          "output_type": "stream",
          "name": "stdout",
          "text": [
            "Requirement already satisfied: torch in /usr/local/lib/python3.11/dist-packages (2.6.0+cu124)\n",
            "Requirement already satisfied: filelock in /usr/local/lib/python3.11/dist-packages (from torch) (3.18.0)\n",
            "Requirement already satisfied: typing-extensions>=4.10.0 in /usr/local/lib/python3.11/dist-packages (from torch) (4.14.0)\n",
            "Requirement already satisfied: networkx in /usr/local/lib/python3.11/dist-packages (from torch) (3.5)\n",
            "Requirement already satisfied: jinja2 in /usr/local/lib/python3.11/dist-packages (from torch) (3.1.6)\n",
            "Requirement already satisfied: fsspec in /usr/local/lib/python3.11/dist-packages (from torch) (2025.3.2)\n",
            "Collecting nvidia-cuda-nvrtc-cu12==12.4.127 (from torch)\n",
            "  Downloading nvidia_cuda_nvrtc_cu12-12.4.127-py3-none-manylinux2014_x86_64.whl.metadata (1.5 kB)\n",
            "Collecting nvidia-cuda-runtime-cu12==12.4.127 (from torch)\n",
            "  Downloading nvidia_cuda_runtime_cu12-12.4.127-py3-none-manylinux2014_x86_64.whl.metadata (1.5 kB)\n",
            "Collecting nvidia-cuda-cupti-cu12==12.4.127 (from torch)\n",
            "  Downloading nvidia_cuda_cupti_cu12-12.4.127-py3-none-manylinux2014_x86_64.whl.metadata (1.6 kB)\n",
            "Collecting nvidia-cudnn-cu12==9.1.0.70 (from torch)\n",
            "  Downloading nvidia_cudnn_cu12-9.1.0.70-py3-none-manylinux2014_x86_64.whl.metadata (1.6 kB)\n",
            "Collecting nvidia-cublas-cu12==12.4.5.8 (from torch)\n",
            "  Downloading nvidia_cublas_cu12-12.4.5.8-py3-none-manylinux2014_x86_64.whl.metadata (1.5 kB)\n",
            "Collecting nvidia-cufft-cu12==11.2.1.3 (from torch)\n",
            "  Downloading nvidia_cufft_cu12-11.2.1.3-py3-none-manylinux2014_x86_64.whl.metadata (1.5 kB)\n",
            "Collecting nvidia-curand-cu12==10.3.5.147 (from torch)\n",
            "  Downloading nvidia_curand_cu12-10.3.5.147-py3-none-manylinux2014_x86_64.whl.metadata (1.5 kB)\n",
            "Collecting nvidia-cusolver-cu12==11.6.1.9 (from torch)\n",
            "  Downloading nvidia_cusolver_cu12-11.6.1.9-py3-none-manylinux2014_x86_64.whl.metadata (1.6 kB)\n",
            "Collecting nvidia-cusparse-cu12==12.3.1.170 (from torch)\n",
            "  Downloading nvidia_cusparse_cu12-12.3.1.170-py3-none-manylinux2014_x86_64.whl.metadata (1.6 kB)\n",
            "Requirement already satisfied: nvidia-cusparselt-cu12==0.6.2 in /usr/local/lib/python3.11/dist-packages (from torch) (0.6.2)\n",
            "Requirement already satisfied: nvidia-nccl-cu12==2.21.5 in /usr/local/lib/python3.11/dist-packages (from torch) (2.21.5)\n",
            "Requirement already satisfied: nvidia-nvtx-cu12==12.4.127 in /usr/local/lib/python3.11/dist-packages (from torch) (12.4.127)\n",
            "Collecting nvidia-nvjitlink-cu12==12.4.127 (from torch)\n",
            "  Downloading nvidia_nvjitlink_cu12-12.4.127-py3-none-manylinux2014_x86_64.whl.metadata (1.5 kB)\n",
            "Requirement already satisfied: triton==3.2.0 in /usr/local/lib/python3.11/dist-packages (from torch) (3.2.0)\n",
            "Requirement already satisfied: sympy==1.13.1 in /usr/local/lib/python3.11/dist-packages (from torch) (1.13.1)\n",
            "Requirement already satisfied: mpmath<1.4,>=1.1.0 in /usr/local/lib/python3.11/dist-packages (from sympy==1.13.1->torch) (1.3.0)\n",
            "Requirement already satisfied: MarkupSafe>=2.0 in /usr/local/lib/python3.11/dist-packages (from jinja2->torch) (3.0.2)\n",
            "Downloading nvidia_cublas_cu12-12.4.5.8-py3-none-manylinux2014_x86_64.whl (363.4 MB)\n",
            "\u001b[2K   \u001b[90m━━━━━━━━━━━━━━━━━━━━━━━━━━━━━━━━━━━━━━━━\u001b[0m \u001b[32m363.4/363.4 MB\u001b[0m \u001b[31m2.7 MB/s\u001b[0m eta \u001b[36m0:00:00\u001b[0m\n",
            "\u001b[?25hDownloading nvidia_cuda_cupti_cu12-12.4.127-py3-none-manylinux2014_x86_64.whl (13.8 MB)\n",
            "\u001b[2K   \u001b[90m━━━━━━━━━━━━━━━━━━━━━━━━━━━━━━━━━━━━━━━━\u001b[0m \u001b[32m13.8/13.8 MB\u001b[0m \u001b[31m119.7 MB/s\u001b[0m eta \u001b[36m0:00:00\u001b[0m\n",
            "\u001b[?25hDownloading nvidia_cuda_nvrtc_cu12-12.4.127-py3-none-manylinux2014_x86_64.whl (24.6 MB)\n",
            "\u001b[2K   \u001b[90m━━━━━━━━━━━━━━━━━━━━━━━━━━━━━━━━━━━━━━━━\u001b[0m \u001b[32m24.6/24.6 MB\u001b[0m \u001b[31m82.9 MB/s\u001b[0m eta \u001b[36m0:00:00\u001b[0m\n",
            "\u001b[?25hDownloading nvidia_cuda_runtime_cu12-12.4.127-py3-none-manylinux2014_x86_64.whl (883 kB)\n",
            "\u001b[2K   \u001b[90m━━━━━━━━━━━━━━━━━━━━━━━━━━━━━━━━━━━━━━━━\u001b[0m \u001b[32m883.7/883.7 kB\u001b[0m \u001b[31m55.3 MB/s\u001b[0m eta \u001b[36m0:00:00\u001b[0m\n",
            "\u001b[?25hDownloading nvidia_cudnn_cu12-9.1.0.70-py3-none-manylinux2014_x86_64.whl (664.8 MB)\n",
            "\u001b[2K   \u001b[90m━━━━━━━━━━━━━━━━━━━━━━━━━━━━━━━━━━━━━━━━\u001b[0m \u001b[32m664.8/664.8 MB\u001b[0m \u001b[31m2.7 MB/s\u001b[0m eta \u001b[36m0:00:00\u001b[0m\n",
            "\u001b[?25hDownloading nvidia_cufft_cu12-11.2.1.3-py3-none-manylinux2014_x86_64.whl (211.5 MB)\n",
            "\u001b[2K   \u001b[90m━━━━━━━━━━━━━━━━━━━━━━━━━━━━━━━━━━━━━━━━\u001b[0m \u001b[32m211.5/211.5 MB\u001b[0m \u001b[31m6.8 MB/s\u001b[0m eta \u001b[36m0:00:00\u001b[0m\n",
            "\u001b[?25hDownloading nvidia_curand_cu12-10.3.5.147-py3-none-manylinux2014_x86_64.whl (56.3 MB)\n",
            "\u001b[2K   \u001b[90m━━━━━━━━━━━━━━━━━━━━━━━━━━━━━━━━━━━━━━━━\u001b[0m \u001b[32m56.3/56.3 MB\u001b[0m \u001b[31m13.2 MB/s\u001b[0m eta \u001b[36m0:00:00\u001b[0m\n",
            "\u001b[?25hDownloading nvidia_cusolver_cu12-11.6.1.9-py3-none-manylinux2014_x86_64.whl (127.9 MB)\n",
            "\u001b[2K   \u001b[90m━━━━━━━━━━━━━━━━━━━━━━━━━━━━━━━━━━━━━━━━\u001b[0m \u001b[32m127.9/127.9 MB\u001b[0m \u001b[31m7.5 MB/s\u001b[0m eta \u001b[36m0:00:00\u001b[0m\n",
            "\u001b[?25hDownloading nvidia_cusparse_cu12-12.3.1.170-py3-none-manylinux2014_x86_64.whl (207.5 MB)\n",
            "\u001b[2K   \u001b[90m━━━━━━━━━━━━━━━━━━━━━━━━━━━━━━━━━━━━━━━━\u001b[0m \u001b[32m207.5/207.5 MB\u001b[0m \u001b[31m3.2 MB/s\u001b[0m eta \u001b[36m0:00:00\u001b[0m\n",
            "\u001b[?25hDownloading nvidia_nvjitlink_cu12-12.4.127-py3-none-manylinux2014_x86_64.whl (21.1 MB)\n",
            "\u001b[2K   \u001b[90m━━━━━━━━━━━━━━━━━━━━━━━━━━━━━━━━━━━━━━━━\u001b[0m \u001b[32m21.1/21.1 MB\u001b[0m \u001b[31m71.7 MB/s\u001b[0m eta \u001b[36m0:00:00\u001b[0m\n",
            "\u001b[?25hInstalling collected packages: nvidia-nvjitlink-cu12, nvidia-curand-cu12, nvidia-cufft-cu12, nvidia-cuda-runtime-cu12, nvidia-cuda-nvrtc-cu12, nvidia-cuda-cupti-cu12, nvidia-cublas-cu12, nvidia-cusparse-cu12, nvidia-cudnn-cu12, nvidia-cusolver-cu12\n",
            "  Attempting uninstall: nvidia-nvjitlink-cu12\n",
            "    Found existing installation: nvidia-nvjitlink-cu12 12.5.82\n",
            "    Uninstalling nvidia-nvjitlink-cu12-12.5.82:\n",
            "      Successfully uninstalled nvidia-nvjitlink-cu12-12.5.82\n",
            "  Attempting uninstall: nvidia-curand-cu12\n",
            "    Found existing installation: nvidia-curand-cu12 10.3.6.82\n",
            "    Uninstalling nvidia-curand-cu12-10.3.6.82:\n",
            "      Successfully uninstalled nvidia-curand-cu12-10.3.6.82\n",
            "  Attempting uninstall: nvidia-cufft-cu12\n",
            "    Found existing installation: nvidia-cufft-cu12 11.2.3.61\n",
            "    Uninstalling nvidia-cufft-cu12-11.2.3.61:\n",
            "      Successfully uninstalled nvidia-cufft-cu12-11.2.3.61\n",
            "  Attempting uninstall: nvidia-cuda-runtime-cu12\n",
            "    Found existing installation: nvidia-cuda-runtime-cu12 12.5.82\n",
            "    Uninstalling nvidia-cuda-runtime-cu12-12.5.82:\n",
            "      Successfully uninstalled nvidia-cuda-runtime-cu12-12.5.82\n",
            "  Attempting uninstall: nvidia-cuda-nvrtc-cu12\n",
            "    Found existing installation: nvidia-cuda-nvrtc-cu12 12.5.82\n",
            "    Uninstalling nvidia-cuda-nvrtc-cu12-12.5.82:\n",
            "      Successfully uninstalled nvidia-cuda-nvrtc-cu12-12.5.82\n",
            "  Attempting uninstall: nvidia-cuda-cupti-cu12\n",
            "    Found existing installation: nvidia-cuda-cupti-cu12 12.5.82\n",
            "    Uninstalling nvidia-cuda-cupti-cu12-12.5.82:\n",
            "      Successfully uninstalled nvidia-cuda-cupti-cu12-12.5.82\n",
            "  Attempting uninstall: nvidia-cublas-cu12\n",
            "    Found existing installation: nvidia-cublas-cu12 12.5.3.2\n",
            "    Uninstalling nvidia-cublas-cu12-12.5.3.2:\n",
            "      Successfully uninstalled nvidia-cublas-cu12-12.5.3.2\n",
            "  Attempting uninstall: nvidia-cusparse-cu12\n",
            "    Found existing installation: nvidia-cusparse-cu12 12.5.1.3\n",
            "    Uninstalling nvidia-cusparse-cu12-12.5.1.3:\n",
            "      Successfully uninstalled nvidia-cusparse-cu12-12.5.1.3\n",
            "  Attempting uninstall: nvidia-cudnn-cu12\n",
            "    Found existing installation: nvidia-cudnn-cu12 9.3.0.75\n",
            "    Uninstalling nvidia-cudnn-cu12-9.3.0.75:\n",
            "      Successfully uninstalled nvidia-cudnn-cu12-9.3.0.75\n",
            "  Attempting uninstall: nvidia-cusolver-cu12\n",
            "    Found existing installation: nvidia-cusolver-cu12 11.6.3.83\n",
            "    Uninstalling nvidia-cusolver-cu12-11.6.3.83:\n",
            "      Successfully uninstalled nvidia-cusolver-cu12-11.6.3.83\n",
            "Successfully installed nvidia-cublas-cu12-12.4.5.8 nvidia-cuda-cupti-cu12-12.4.127 nvidia-cuda-nvrtc-cu12-12.4.127 nvidia-cuda-runtime-cu12-12.4.127 nvidia-cudnn-cu12-9.1.0.70 nvidia-cufft-cu12-11.2.1.3 nvidia-curand-cu12-10.3.5.147 nvidia-cusolver-cu12-11.6.1.9 nvidia-cusparse-cu12-12.3.1.170 nvidia-nvjitlink-cu12-12.4.127\n",
            "Requirement already satisfied: torchvision in /usr/local/lib/python3.11/dist-packages (0.21.0+cu124)\n",
            "Requirement already satisfied: numpy in /usr/local/lib/python3.11/dist-packages (from torchvision) (2.0.2)\n",
            "Requirement already satisfied: torch==2.6.0 in /usr/local/lib/python3.11/dist-packages (from torchvision) (2.6.0+cu124)\n",
            "Requirement already satisfied: pillow!=8.3.*,>=5.3.0 in /usr/local/lib/python3.11/dist-packages (from torchvision) (11.2.1)\n",
            "Requirement already satisfied: filelock in /usr/local/lib/python3.11/dist-packages (from torch==2.6.0->torchvision) (3.18.0)\n",
            "Requirement already satisfied: typing-extensions>=4.10.0 in /usr/local/lib/python3.11/dist-packages (from torch==2.6.0->torchvision) (4.14.0)\n",
            "Requirement already satisfied: networkx in /usr/local/lib/python3.11/dist-packages (from torch==2.6.0->torchvision) (3.5)\n",
            "Requirement already satisfied: jinja2 in /usr/local/lib/python3.11/dist-packages (from torch==2.6.0->torchvision) (3.1.6)\n",
            "Requirement already satisfied: fsspec in /usr/local/lib/python3.11/dist-packages (from torch==2.6.0->torchvision) (2025.3.2)\n",
            "Requirement already satisfied: nvidia-cuda-nvrtc-cu12==12.4.127 in /usr/local/lib/python3.11/dist-packages (from torch==2.6.0->torchvision) (12.4.127)\n",
            "Requirement already satisfied: nvidia-cuda-runtime-cu12==12.4.127 in /usr/local/lib/python3.11/dist-packages (from torch==2.6.0->torchvision) (12.4.127)\n",
            "Requirement already satisfied: nvidia-cuda-cupti-cu12==12.4.127 in /usr/local/lib/python3.11/dist-packages (from torch==2.6.0->torchvision) (12.4.127)\n",
            "Requirement already satisfied: nvidia-cudnn-cu12==9.1.0.70 in /usr/local/lib/python3.11/dist-packages (from torch==2.6.0->torchvision) (9.1.0.70)\n",
            "Requirement already satisfied: nvidia-cublas-cu12==12.4.5.8 in /usr/local/lib/python3.11/dist-packages (from torch==2.6.0->torchvision) (12.4.5.8)\n",
            "Requirement already satisfied: nvidia-cufft-cu12==11.2.1.3 in /usr/local/lib/python3.11/dist-packages (from torch==2.6.0->torchvision) (11.2.1.3)\n",
            "Requirement already satisfied: nvidia-curand-cu12==10.3.5.147 in /usr/local/lib/python3.11/dist-packages (from torch==2.6.0->torchvision) (10.3.5.147)\n",
            "Requirement already satisfied: nvidia-cusolver-cu12==11.6.1.9 in /usr/local/lib/python3.11/dist-packages (from torch==2.6.0->torchvision) (11.6.1.9)\n",
            "Requirement already satisfied: nvidia-cusparse-cu12==12.3.1.170 in /usr/local/lib/python3.11/dist-packages (from torch==2.6.0->torchvision) (12.3.1.170)\n",
            "Requirement already satisfied: nvidia-cusparselt-cu12==0.6.2 in /usr/local/lib/python3.11/dist-packages (from torch==2.6.0->torchvision) (0.6.2)\n",
            "Requirement already satisfied: nvidia-nccl-cu12==2.21.5 in /usr/local/lib/python3.11/dist-packages (from torch==2.6.0->torchvision) (2.21.5)\n",
            "Requirement already satisfied: nvidia-nvtx-cu12==12.4.127 in /usr/local/lib/python3.11/dist-packages (from torch==2.6.0->torchvision) (12.4.127)\n",
            "Requirement already satisfied: nvidia-nvjitlink-cu12==12.4.127 in /usr/local/lib/python3.11/dist-packages (from torch==2.6.0->torchvision) (12.4.127)\n",
            "Requirement already satisfied: triton==3.2.0 in /usr/local/lib/python3.11/dist-packages (from torch==2.6.0->torchvision) (3.2.0)\n",
            "Requirement already satisfied: sympy==1.13.1 in /usr/local/lib/python3.11/dist-packages (from torch==2.6.0->torchvision) (1.13.1)\n",
            "Requirement already satisfied: mpmath<1.4,>=1.1.0 in /usr/local/lib/python3.11/dist-packages (from sympy==1.13.1->torch==2.6.0->torchvision) (1.3.0)\n",
            "Requirement already satisfied: MarkupSafe>=2.0 in /usr/local/lib/python3.11/dist-packages (from jinja2->torch==2.6.0->torchvision) (3.0.2)\n"
          ]
        }
      ],
      "source": [
        "import pandas as pd\n",
        "import numpy as np\n",
        "import matplotlib.pyplot as plt\n",
        "import seaborn as sns\n",
        "from matplotlib.colors import LinearSegmentedColormap\n",
        "%matplotlib inline\n",
        "\n",
        "# -- OS\n",
        "import os\n",
        "from google.colab import drive\n",
        "import shutil\n",
        "import zipfile\n",
        "\n",
        "# -- Modeling\n",
        "!pip install torch\n",
        "!pip install torchvision\n",
        "from sklearn.model_selection import train_test_split\n",
        "from sklearn.preprocessing import LabelEncoder\n",
        "import torch\n",
        "from torchvision import models\n",
        "from torchvision.models import MobileNet_V2_Weights\n",
        "from torchvision import datasets, transforms\n",
        "from torch.utils.data import DataLoader\n",
        "import torch.nn as nn\n",
        "from torch import optim\n",
        "from sklearn.metrics import f1_score\n",
        "\n",
        "# -- Divers\n",
        "from tqdm import tqdm\n",
        "import time\n"
      ]
    },
    {
      "cell_type": "code",
      "execution_count": null,
      "metadata": {
        "collapsed": true,
        "id": "EHpe04awoJ8i",
        "colab": {
          "base_uri": "https://localhost:8080/"
        },
        "outputId": "4beb43a0-8145-473a-897a-f19b0097b5d5"
      },
      "outputs": [
        {
          "output_type": "stream",
          "name": "stdout",
          "text": [
            "Mounted at /content/drive\n"
          ]
        }
      ],
      "source": [
        "# ---- Chemins d'accès\n",
        "RootPath = ''\n",
        "\n",
        "drive.mount('/content/drive')                                               # Je monte mon drive\n",
        "RootPath = '/content/drive/MyDrive/Formation/Projet/Colab Notebooks/dbd/'   # Root\n",
        "RootColabPath = '/content/'\n",
        "\n",
        "ImgArcFullSrcPath = '/content/drive/MyDrive/Formation/Projet/images.zip'\n",
        "ImgArcFullDstPath = '/content/images.zip'\n",
        "ImgTrainPath = RootColabPath + 'images/image_train/'\n",
        "ImgTestPath = RootColabPath + 'images/image_test/'"
      ]
    },
    {
      "cell_type": "markdown",
      "metadata": {
        "id": "GfFry95EL9fp"
      },
      "source": [
        "## Design Images FS"
      ]
    },
    {
      "cell_type": "code",
      "execution_count": null,
      "metadata": {
        "id": "8x-elCAN6grZ",
        "colab": {
          "base_uri": "https://localhost:8080/"
        },
        "outputId": "87bd8339-086c-4d14-fdb2-cacda434291d"
      },
      "outputs": [
        {
          "output_type": "stream",
          "name": "stdout",
          "text": [
            "84916\n",
            "Structure données créée :\n",
            "- Train : 52014 images\n",
            "- Validation : 13004 images\n",
            "- Catégories : 27\n"
          ]
        }
      ],
      "source": [
        "def prepare_data_structure(root_path, df, num_classes=27, img_height=500, img_width=500):\n",
        "    '''\n",
        "        Prépare la structure filesystem pour optimiser l'exploitation des images par le modèle\n",
        "\n",
        "        Arg df contient le nom de chaque fichier et sa classe d'appartenance\n",
        "        Retourne le chemin des dossiers train et validation et le mapping des classes\n",
        "    '''\n",
        "\n",
        "    images_path = os.path.join(root_path, 'images')\n",
        "    train_dir = os.path.join(images_path, 'image_train_categorized')\n",
        "    val_dir = os.path.join(images_path, 'image_validation_categorized')\n",
        "\n",
        "    os.makedirs(train_dir, exist_ok=True)\n",
        "    os.makedirs(val_dir, exist_ok=True)\n",
        "\n",
        "    le = LabelEncoder()\n",
        "    df['label'] = le.fit_transform(df['prdtypcode'])\n",
        "\n",
        "    # Sauvegarde du mapping des classes\n",
        "    classe_mapping = dict(zip(le.classes_, le.transform(le.classes_)))\n",
        "    pd.Series(classe_mapping).to_csv(os.path.join(root_path, 'classe_mapping.csv'))\n",
        "\n",
        "    # Séparation train/validation\n",
        "    train_df, val_df = train_test_split(\n",
        "        df,\n",
        "        test_size=0.2,\n",
        "        stratify=df['label'],\n",
        "        random_state=42\n",
        "    )\n",
        "\n",
        "    # Fonction pour copie des images dans la structure\n",
        "    def copy_images_to_categories(dataframe, destination_dir):\n",
        "        for classe in dataframe['prdtypcode'].unique():\n",
        "            classe_dir = os.path.join(destination_dir, classe)\n",
        "            os.makedirs(classe_dir, exist_ok=True)\n",
        "\n",
        "            classe_images = dataframe[dataframe['prdtypcode'] == classe]\n",
        "            for _, row in classe_images.iterrows():\n",
        "                src_path = os.path.join(images_path, 'image_train', row['filename'])\n",
        "                dst_path = os.path.join(classe_dir, row['filename'])\n",
        "\n",
        "                if os.path.exists(src_path):\n",
        "                    shutil.copy(src_path, dst_path)\n",
        "\n",
        "    # Copie des images pour train et validation\n",
        "    copy_images_to_categories(train_df, train_dir)\n",
        "    copy_images_to_categories(val_df, val_dir)\n",
        "\n",
        "    print(f\"Structure données créée :\")\n",
        "    print(f\"- Train : {len(train_df)} images\")\n",
        "    print(f\"- Validation : {len(val_df)} images\")\n",
        "    print(f\"- Catégories : {len(classe_mapping)}\")\n",
        "\n",
        "    return train_dir, val_dir, classe_mapping\n",
        "\n",
        "# Pour optimiser l'exploitation des fichiers images, il faut les importer préalablement dans le stockage local de Google Colab\n",
        "shutil.copy(ImgArcFullSrcPath, RootColabPath)\n",
        "with zipfile.ZipFile(ImgArcFullDstPath, 'r') as zipf:\n",
        "  zipf.extractall(RootColabPath)\n",
        "\n",
        "os.remove(ImgArcFullDstPath)\n",
        "print(len(os.listdir(ImgTrainPath)))\n",
        "\n",
        "# Prépare le set en constituant le nom de chaque fichier\n",
        "df = pd.read_csv(RootPath + 'BestML1_set_clean.csv').fillna('')\n",
        "df['filename'] = df.apply(lambda x: 'image_' + str(x['imageid']) + '_product_' + str(x['productid']) + '.jpg', axis=1)\n",
        "df['prdtypcode'] = df['prdtypecode'].astype(str)\n",
        "df = df[['filename', 'prdtypcode']].copy()\n",
        "\n",
        "train_dir, val_dir, classe_mapping = prepare_data_structure(RootColabPath, df)"
      ]
    },
    {
      "cell_type": "markdown",
      "source": [
        "### ResNet50_Weights"
      ],
      "metadata": {
        "id": "EVOvqOp5dn8r"
      }
    },
    {
      "cell_type": "code",
      "source": [
        "import torch\n",
        "import torch.nn as nn\n",
        "import torch.optim as optim\n",
        "from torch.utils.data import DataLoader\n",
        "from torchvision import datasets, transforms, models\n",
        "from torchvision.models import ResNet50_Weights\n",
        "from tqdm import tqdm\n",
        "import numpy as np\n",
        "from sklearn.metrics import accuracy_score, classification_report, f1_score\n",
        "import matplotlib.pyplot as plt\n",
        "import os\n",
        "import json\n",
        "\n",
        "checkpoint_dir = \"checkpoints\"\n",
        "os.makedirs(checkpoint_dir, exist_ok=True)\n",
        "\n",
        "# Transformations avec augmentation de données\n",
        "transform_train = transforms.Compose([\n",
        "    transforms.RandomResizedCrop(224),\n",
        "    transforms.RandomHorizontalFlip(),\n",
        "    transforms.RandomRotation(15),\n",
        "    transforms.ColorJitter(brightness=0.1, contrast=0.1, saturation=0.1),\n",
        "    transforms.ToTensor(),\n",
        "    transforms.Normalize(mean=[0.485, 0.456, 0.406], std=[0.229, 0.224, 0.225])\n",
        "])\n",
        "\n",
        "transform_val = transforms.Compose([\n",
        "    transforms.Resize(256),\n",
        "    transforms.CenterCrop(224),\n",
        "    transforms.ToTensor(),\n",
        "    transforms.Normalize(mean=[0.485, 0.456, 0.406], std=[0.229, 0.224, 0.225])\n",
        "])\n",
        "\n",
        "# Charger les données\n",
        "print(\"Chargement des datasets...\")\n",
        "dataset_train = datasets.ImageFolder(root=train_dir, transform=transform_train)\n",
        "dataset_val = datasets.ImageFolder(root=val_dir, transform=transform_val)\n",
        "\n",
        "# DataLoaders\n",
        "dataloader_train = DataLoader(dataset_train, batch_size=32, shuffle=True, num_workers=4, pin_memory=True)\n",
        "dataloader_val = DataLoader(dataset_val, batch_size=32, shuffle=False, num_workers=4, pin_memory=True)\n",
        "\n",
        "# Vérifier les classes\n",
        "class_names = dataset_train.classes\n",
        "num_classes = len(class_names)\n",
        "print(f\"Nombre de classes: {num_classes}\")\n",
        "\n",
        "# Utiliser GPU si disponible\n",
        "device = torch.device(\"cuda\" if torch.cuda.is_available() else \"cpu\")\n",
        "print(f\"Utilisation de {device}\")\n",
        "\n",
        "bak_folder = '/content/drive/MyDrive/Formation/Projet/Colab Notebooks/dbd/checkpoints'\n",
        "\n",
        "def create_model():\n",
        "    \"\"\"Fonction pour créer et configurer le modèle\"\"\"\n",
        "    print(\"Initialisation du modèle ResNet50...\")\n",
        "    # Charger ResNet50 pré-entraîné\n",
        "    weights = ResNet50_Weights.DEFAULT\n",
        "    model = models.resnet50(weights=weights)\n",
        "\n",
        "    # Stratégie de gel des couches\n",
        "    for name, param in model.named_parameters():\n",
        "        if \"layer3\" not in name and \"layer4\" not in name and \"fc\" not in name:\n",
        "            param.requires_grad = False\n",
        "        else:\n",
        "            param.requires_grad = True\n",
        "\n",
        "    # Remplacer la couche fully connected\n",
        "    model.fc = nn.Sequential(\n",
        "        nn.Dropout(0.3),\n",
        "        nn.Linear(model.fc.in_features, num_classes)\n",
        "    )\n",
        "\n",
        "    return model, weights\n",
        "\n",
        "def load_checkpoint(checkpoint_path, model=None, optimizer=None):\n",
        "    \"\"\"Charge un checkpoint sauvegardé\"\"\"\n",
        "    print(f\"Chargement du checkpoint: {checkpoint_path}\")\n",
        "    checkpoint = torch.load(checkpoint_path)\n",
        "\n",
        "    # Si le modèle n'est pas fourni, le créer\n",
        "    if model is None:\n",
        "        model, weights = create_model()\n",
        "        model.to(device)\n",
        "\n",
        "    model.load_state_dict(checkpoint['model_state_dict'])\n",
        "\n",
        "    # Si l'optimiseur n'est pas fourni, le créer\n",
        "    if optimizer is None:\n",
        "        optimizer = optim.Adam([\n",
        "            {'params': [p for n, p in model.named_parameters() if \"layer3\" in n], 'lr': 1e-4},\n",
        "            {'params': [p for n, p in model.named_parameters() if \"layer4\" in n], 'lr': 5e-4},\n",
        "            {'params': model.fc.parameters(), 'lr': 1e-3}\n",
        "        ])\n",
        "\n",
        "    optimizer.load_state_dict(checkpoint['optimizer_state_dict'])\n",
        "\n",
        "    # Charger l'historique d'entraînement s'il existe\n",
        "    history = checkpoint.get('history', {'train_loss': [], 'val_loss': [], 'train_f1': [], 'val_f1': []})\n",
        "\n",
        "    return model, optimizer, checkpoint['epoch'], checkpoint['best_val_f1'], checkpoint['counter'], history, checkpoint['scheduler_state_dict']\n",
        "\n",
        "def save_checkpoint(epoch, model, optimizer, scheduler, best_val_f1, counter, history):\n",
        "    \"\"\"Sauvegarde l'état actuel de l'entraînement\"\"\"\n",
        "    checkpoint_path = os.path.join(checkpoint_dir, f\"resnet50_checkpoint_epoch_{epoch+1}.pth\")\n",
        "    print(f\"Sauvegarde du checkpoint: {checkpoint_path}\")\n",
        "\n",
        "    torch.save({\n",
        "        'epoch': epoch,\n",
        "        'model_state_dict': model.state_dict(),\n",
        "        'optimizer_state_dict': optimizer.state_dict(),\n",
        "        'scheduler_state_dict': scheduler.state_dict(),\n",
        "        'best_val_f1': best_val_f1,\n",
        "        'counter': counter,\n",
        "        'history': history\n",
        "    }, checkpoint_path)\n",
        "\n",
        "    # Sauvegarder également l'historique en JSON pour faciliter la visualisation\n",
        "    with open(os.path.join(checkpoint_dir, 'training_history.json'), 'w') as f:\n",
        "        json.dump(history, f)\n",
        "\n",
        "    shutil.copy(checkpoint_path, bak_folder)\n",
        "    shutil.copy(os.path.join(checkpoint_dir, 'training_history.json'), bak_folder)\n",
        "\n",
        "def evaluate(dataloader, model, criterion):\n",
        "    \"\"\"Évalue le modèle sur un ensemble de données\"\"\"\n",
        "    model.eval()\n",
        "    loss_total = 0\n",
        "    predictions, true_vals = [], []\n",
        "\n",
        "    with torch.no_grad():\n",
        "        for batch in dataloader:\n",
        "            X_batch, y_batch = batch\n",
        "            X_batch = X_batch.to(device)\n",
        "            y_batch = y_batch.to(device)\n",
        "\n",
        "            outputs = model(X_batch)\n",
        "            loss = criterion(outputs, y_batch)\n",
        "            loss_total += loss.item()\n",
        "\n",
        "            _, preds = torch.max(outputs, 1)\n",
        "            predictions.extend(preds.cpu().numpy())\n",
        "            true_vals.extend(y_batch.cpu().numpy())\n",
        "\n",
        "    avg_loss = loss_total / len(dataloader)\n",
        "    f1score = f1_score(true_vals, predictions, average='weighted')\n",
        "    return avg_loss, f1score\n",
        "\n",
        "def train_model(start_epoch=0, total_epochs=15, best_val_f1=0, counter=0, history=None):\n",
        "    \"\"\"Fonction d'entraînement avec reprise possible\"\"\"\n",
        "    # Créer ou charger le modèle\n",
        "    if start_epoch == 0:\n",
        "        model, weights = create_model()\n",
        "        model.to(device)\n",
        "\n",
        "        # Définir l'optimizer\n",
        "        optimizer = optim.Adam([\n",
        "            {'params': [p for n, p in model.named_parameters() if \"layer3\" in n], 'lr': 1e-4},\n",
        "            {'params': [p for n, p in model.named_parameters() if \"layer4\" in n], 'lr': 5e-4},\n",
        "            {'params': model.fc.parameters(), 'lr': 1e-3}\n",
        "        ])\n",
        "\n",
        "        # Initialiser l'historique\n",
        "        if history is None:\n",
        "            history = {'train_loss': [], 'val_loss': [], 'train_f1': [], 'val_f1': []}\n",
        "\n",
        "        # Scheduler\n",
        "        scheduler = optim.lr_scheduler.CosineAnnealingLR(optimizer, T_max=10)\n",
        "    else:\n",
        "        # Retrouver le dernier checkpoint\n",
        "        latest_checkpoint = sorted([f for f in os.listdir(checkpoint_dir) if f.startswith('resnet50_checkpoint')])[-1]\n",
        "        checkpoint_path = os.path.join(checkpoint_dir, latest_checkpoint)\n",
        "        model, optimizer, start_epoch, best_val_f1, counter, history, scheduler_state = load_checkpoint(checkpoint_path)\n",
        "\n",
        "        # Recréer le scheduler et charger son état\n",
        "        scheduler = optim.lr_scheduler.CosineAnnealingLR(optimizer, T_max=10)\n",
        "        scheduler.load_state_dict(scheduler_state)\n",
        "\n",
        "    # Critère de perte\n",
        "    criterion = nn.CrossEntropyLoss()\n",
        "\n",
        "    # Paramètres pour early stopping\n",
        "    patience = 5\n",
        "\n",
        "    print(f\"Démarrage de l'entraînement à l'époque {start_epoch+1}/{total_epochs}\")\n",
        "\n",
        "    for epoch in range(start_epoch, total_epochs):\n",
        "        # Mode entraînement\n",
        "        model.train()\n",
        "        train_loss = 0\n",
        "        train_correct = 0\n",
        "        train_total = 0\n",
        "        train_predictions, train_true_vals = [], []\n",
        "\n",
        "        progress_bar = tqdm(dataloader_train, desc=f\"Epoch {epoch+1}/{total_epochs}\")\n",
        "\n",
        "        for batch_idx, (X_batch, y_batch) in enumerate(progress_bar):\n",
        "            X_batch = X_batch.to(device)\n",
        "            y_batch = y_batch.to(device)\n",
        "\n",
        "            # Réinitialiser les gradients\n",
        "            optimizer.zero_grad()\n",
        "\n",
        "            # Forward pass\n",
        "            outputs = model(X_batch)\n",
        "            loss = criterion(outputs, y_batch)\n",
        "\n",
        "            # Backward pass et optimisation\n",
        "            loss.backward()\n",
        "\n",
        "            # Clip gradients pour éviter explosion\n",
        "            torch.nn.utils.clip_grad_norm_(model.parameters(), max_norm=1.0)\n",
        "\n",
        "            optimizer.step()\n",
        "\n",
        "            # Statistiques\n",
        "            train_loss += loss.item()\n",
        "            _, predicted = torch.max(outputs.data, 1)\n",
        "            train_total += y_batch.size(0)\n",
        "            train_correct += (predicted == y_batch).sum().item()\n",
        "            train_predictions.extend(predicted.cpu().numpy())\n",
        "            train_true_vals.extend(y_batch.cpu().numpy())\n",
        "\n",
        "            progress_bar.set_postfix(\n",
        "                {'training_loss': f\"{train_loss/(batch_idx+1):.3f}\",\n",
        "                 'accuracy': f\"{100*train_correct/train_total:.2f}%\"}\n",
        "            )\n",
        "\n",
        "        # Calculer la précision d'entraînement\n",
        "        train_f1 = f1_score(train_true_vals, train_predictions, average='weighted')\n",
        "        train_accuracy = train_correct / train_total\n",
        "        avg_train_loss = train_loss / len(dataloader_train)\n",
        "\n",
        "        # Évaluation\n",
        "        val_loss, val_f1 = evaluate(dataloader_val, model, criterion)\n",
        "\n",
        "        # Mettre à jour le scheduler\n",
        "        scheduler.step()\n",
        "\n",
        "        # Enregistrer les métriques\n",
        "        history['train_loss'].append(avg_train_loss)\n",
        "        history['val_loss'].append(val_loss)\n",
        "        history['train_f1'].append(train_f1)\n",
        "        history['val_f1'].append(val_f1)\n",
        "\n",
        "        print(f\"Epoch {epoch+1}/{total_epochs}\")\n",
        "        print(f\"  Train Loss: {avg_train_loss:.4f}, Train f1: {train_f1:.4f}\")\n",
        "        print(f\"  Val Loss: {val_loss:.4f}, Val f1: {val_f1:.4f}\")\n",
        "\n",
        "        # Sauvegarder le checkpoint de fin d'époque et backup sur mon drive\n",
        "        save_checkpoint(epoch, model, optimizer, scheduler, best_val_f1, counter, history)\n",
        "\n",
        "        # Sauvegarder le meilleur modèle\n",
        "        if val_f1 > best_val_f1:\n",
        "            best_val_f1 = val_f1\n",
        "            best_model_path = os.path.join(checkpoint_dir, 'best_resnet50_model.pth')\n",
        "            torch.save({\n",
        "                'epoch': epoch,\n",
        "                'model_state_dict': model.state_dict(),\n",
        "                'optimizer_state_dict': optimizer.state_dict(),\n",
        "                'loss': val_loss,\n",
        "                'f1': val_f1\n",
        "            }, best_model_path)\n",
        "            shutil.copy('/content/checkpoints/best_resnet50_model.pth', bak_folder)\n",
        "            counter = 0\n",
        "        else:\n",
        "            counter += 1\n",
        "            if counter >= patience:\n",
        "                print(f\"Early stopping à l'époque {epoch+1}\")\n",
        "                break\n",
        "\n",
        "    return model, history, best_val_f1\n",
        "\n",
        "def check_for_existing_training():\n",
        "    \"\"\"Vérifie s'il existe déjà un entraînement en cours\"\"\"\n",
        "    checkpoints = [f for f in os.listdir(checkpoint_dir) if f.startswith('resnet50_checkpoint')]\n",
        "    if not checkpoints:\n",
        "        return 0, 15, 0, 0, None  # start_epoch, total_epochs, best_val_f1, counter, history\n",
        "\n",
        "    # Trouver le checkpoint le plus récent\n",
        "    latest_checkpoint = sorted(checkpoints)[-1]\n",
        "    checkpoint_path = os.path.join(checkpoint_dir, latest_checkpoint)\n",
        "\n",
        "    checkpoint = torch.load(checkpoint_path)\n",
        "    start_epoch = checkpoint['epoch'] + 1  # Reprendre à l'époque suivante\n",
        "    best_val_f1 = checkpoint['best_val_f1']\n",
        "    counter = checkpoint['counter']\n",
        "    history = checkpoint.get('history', {'train_loss': [], 'val_loss': [], 'train_f1': [], 'val_f1': []})\n",
        "\n",
        "    return start_epoch, 15, best_val_f1, counter, history\n",
        "\n",
        "# Point d'entrée principal\n",
        "if __name__ == \"__main__\":\n",
        "    # Vérifier s'il existe déjà un entraînement en cours\n",
        "    start_epoch, total_epochs, best_val_f1, counter, history = check_for_existing_training()\n",
        "\n",
        "    # Demander à l'utilisateur s'il veut reprendre l'entraînement ou recommencer\n",
        "    if start_epoch > 0:\n",
        "        print(f\"Un entraînement précédent existe (époque {start_epoch}/{total_epochs}).\")\n",
        "        choice = input(\"Voulez-vous reprendre l'entraînement? (o/n): \")\n",
        "        if choice.lower() not in ['o', 'oui', 'y', 'yes']:\n",
        "            start_epoch = 0\n",
        "            best_val_f1 = 0\n",
        "            counter = 0\n",
        "            history = None\n",
        "\n",
        "    # Lancer l'entraînement\n",
        "    model, history, best_val_f1 = train_model(\n",
        "        start_epoch=start_epoch,\n",
        "        total_epochs=total_epochs,\n",
        "        best_val_f1=best_val_f1,\n",
        "        counter=counter,\n",
        "        history=history\n",
        "    )\n",
        "\n",
        "    # Charger le meilleur modèle pour l'évaluation finale\n",
        "    best_model_path = os.path.join(checkpoint_dir, 'best_resnet50_model.pth')\n",
        "    model, _, _, _, _, _, _ = load_checkpoint(best_model_path)\n",
        "\n",
        "    # Évaluation finale\n",
        "    criterion = nn.CrossEntropyLoss()\n",
        "    final_val_loss, final_val_f1 = evaluate(dataloader_val, model, criterion)\n",
        "    print(f\"f1-score finale: {final_val_f1:.4f}\")\n",
        "    print(f\"Loss finale: {final_val_loss:.4f}\")\n",
        "\n",
        "    # Visualiser l'évolution de l'entraînement\n",
        "    plt.figure(figsize=(12, 4))\n",
        "    plt.subplot(1, 2, 1)\n",
        "    plt.plot(history['train_loss'], label='Train Loss')\n",
        "    plt.plot(history['val_loss'], label='Val Loss')\n",
        "    plt.xlabel('Epoch')\n",
        "    plt.ylabel('Loss')\n",
        "    plt.legend()\n",
        "\n",
        "    plt.subplot(1, 2, 2)\n",
        "    plt.plot(history['train_acc'], label='Train f1-score')\n",
        "    plt.plot(history['val_acc'], label='Val f1-score')\n",
        "    plt.xlabel('Epoch')\n",
        "    plt.ylabel('f1-score pondéré')\n",
        "    plt.legend()\n",
        "    plt.tight_layout()\n",
        "    plt.savefig(os.path.join(checkpoint_dir, 'resnet50_training_history.png'))\n",
        "    plt.show()\n",
        "\n",
        "    # Classification report détaillé\n",
        "    from sklearn.metrics import classification_report\n",
        "\n",
        "    model.eval()\n",
        "    all_preds = []\n",
        "    all_labels = []\n",
        "\n",
        "    with torch.no_grad():\n",
        "        for X_val, y_val in dataloader_val:\n",
        "            X_val = X_val.to(device)\n",
        "            outputs = model(X_val)\n",
        "            _, preds = torch.max(outputs, 1)\n",
        "            all_preds.extend(preds.cpu().numpy())\n",
        "            all_labels.extend(y_val.numpy())\n",
        "\n",
        "    print(\"\\nRapport de classification détaillé:\")\n",
        "    print(classification_report(all_labels, all_preds, target_names=class_names))"
      ],
      "metadata": {
        "id": "7SCVLp9T1BnW",
        "colab": {
          "base_uri": "https://localhost:8080/",
          "height": 1000
        },
        "outputId": "aaab8efc-27d6-4c9a-f6c6-9e11c9916961"
      },
      "execution_count": null,
      "outputs": [
        {
          "output_type": "stream",
          "name": "stdout",
          "text": [
            "Chargement des datasets...\n",
            "Nombre de classes: 27\n"
          ]
        },
        {
          "output_type": "stream",
          "name": "stderr",
          "text": [
            "/usr/local/lib/python3.11/dist-packages/torch/utils/data/dataloader.py:624: UserWarning: This DataLoader will create 4 worker processes in total. Our suggested max number of worker in current system is 2, which is smaller than what this DataLoader is going to create. Please be aware that excessive worker creation might get DataLoader running slow or even freeze, lower the worker number to avoid potential slowness/freeze if necessary.\n",
            "  warnings.warn(\n"
          ]
        },
        {
          "output_type": "stream",
          "name": "stdout",
          "text": [
            "Utilisation de cuda\n",
            "Initialisation du modèle ResNet50...\n"
          ]
        },
        {
          "output_type": "stream",
          "name": "stderr",
          "text": [
            "Downloading: \"https://download.pytorch.org/models/resnet50-11ad3fa6.pth\" to /root/.cache/torch/hub/checkpoints/resnet50-11ad3fa6.pth\n",
            "100%|██████████| 97.8M/97.8M [00:01<00:00, 98.5MB/s]\n"
          ]
        },
        {
          "output_type": "stream",
          "name": "stdout",
          "text": [
            "Démarrage de l'entraînement à l'époque 1/15\n"
          ]
        },
        {
          "output_type": "stream",
          "name": "stderr",
          "text": [
            "Epoch 1/15: 100%|██████████| 1626/1626 [07:18<00:00,  3.71it/s, training_loss=1.712, accuracy=49.80%]\n",
            "/usr/local/lib/python3.11/dist-packages/torch/utils/data/dataloader.py:624: UserWarning: This DataLoader will create 4 worker processes in total. Our suggested max number of worker in current system is 2, which is smaller than what this DataLoader is going to create. Please be aware that excessive worker creation might get DataLoader running slow or even freeze, lower the worker number to avoid potential slowness/freeze if necessary.\n",
            "  warnings.warn(\n"
          ]
        },
        {
          "output_type": "stream",
          "name": "stdout",
          "text": [
            "Epoch 1/15\n",
            "  Train Loss: 1.7121, Train f1: 0.4765\n",
            "  Val Loss: 1.2758, Val f1: 0.6078\n",
            "Sauvegarde du checkpoint: checkpoints/resnet50_checkpoint_epoch_1.pth\n"
          ]
        },
        {
          "output_type": "stream",
          "name": "stderr",
          "text": [
            "\rEpoch 2/15:   0%|          | 0/1626 [00:00<?, ?it/s]/usr/local/lib/python3.11/dist-packages/torch/utils/data/dataloader.py:624: UserWarning: This DataLoader will create 4 worker processes in total. Our suggested max number of worker in current system is 2, which is smaller than what this DataLoader is going to create. Please be aware that excessive worker creation might get DataLoader running slow or even freeze, lower the worker number to avoid potential slowness/freeze if necessary.\n",
            "  warnings.warn(\n",
            "Epoch 2/15: 100%|██████████| 1626/1626 [07:17<00:00,  3.72it/s, training_loss=1.420, accuracy=57.57%]\n",
            "/usr/local/lib/python3.11/dist-packages/torch/utils/data/dataloader.py:624: UserWarning: This DataLoader will create 4 worker processes in total. Our suggested max number of worker in current system is 2, which is smaller than what this DataLoader is going to create. Please be aware that excessive worker creation might get DataLoader running slow or even freeze, lower the worker number to avoid potential slowness/freeze if necessary.\n",
            "  warnings.warn(\n"
          ]
        },
        {
          "output_type": "stream",
          "name": "stdout",
          "text": [
            "Epoch 2/15\n",
            "  Train Loss: 1.4203, Train f1: 0.5620\n",
            "  Val Loss: 1.2000, Val f1: 0.6333\n",
            "Sauvegarde du checkpoint: checkpoints/resnet50_checkpoint_epoch_2.pth\n"
          ]
        },
        {
          "output_type": "stream",
          "name": "stderr",
          "text": [
            "\rEpoch 3/15:   0%|          | 0/1626 [00:00<?, ?it/s]/usr/local/lib/python3.11/dist-packages/torch/utils/data/dataloader.py:624: UserWarning: This DataLoader will create 4 worker processes in total. Our suggested max number of worker in current system is 2, which is smaller than what this DataLoader is going to create. Please be aware that excessive worker creation might get DataLoader running slow or even freeze, lower the worker number to avoid potential slowness/freeze if necessary.\n",
            "  warnings.warn(\n",
            "Epoch 3/15: 100%|██████████| 1626/1626 [07:12<00:00,  3.76it/s, training_loss=1.285, accuracy=60.84%]\n",
            "/usr/local/lib/python3.11/dist-packages/torch/utils/data/dataloader.py:624: UserWarning: This DataLoader will create 4 worker processes in total. Our suggested max number of worker in current system is 2, which is smaller than what this DataLoader is going to create. Please be aware that excessive worker creation might get DataLoader running slow or even freeze, lower the worker number to avoid potential slowness/freeze if necessary.\n",
            "  warnings.warn(\n"
          ]
        },
        {
          "output_type": "stream",
          "name": "stdout",
          "text": [
            "Epoch 3/15\n",
            "  Train Loss: 1.2854, Train f1: 0.5983\n",
            "  Val Loss: 1.1317, Val f1: 0.6570\n",
            "Sauvegarde du checkpoint: checkpoints/resnet50_checkpoint_epoch_3.pth\n"
          ]
        },
        {
          "output_type": "stream",
          "name": "stderr",
          "text": [
            "\rEpoch 4/15:   0%|          | 0/1626 [00:00<?, ?it/s]/usr/local/lib/python3.11/dist-packages/torch/utils/data/dataloader.py:624: UserWarning: This DataLoader will create 4 worker processes in total. Our suggested max number of worker in current system is 2, which is smaller than what this DataLoader is going to create. Please be aware that excessive worker creation might get DataLoader running slow or even freeze, lower the worker number to avoid potential slowness/freeze if necessary.\n",
            "  warnings.warn(\n",
            "Epoch 4/15: 100%|██████████| 1626/1626 [07:24<00:00,  3.66it/s, training_loss=1.171, accuracy=64.01%]\n",
            "/usr/local/lib/python3.11/dist-packages/torch/utils/data/dataloader.py:624: UserWarning: This DataLoader will create 4 worker processes in total. Our suggested max number of worker in current system is 2, which is smaller than what this DataLoader is going to create. Please be aware that excessive worker creation might get DataLoader running slow or even freeze, lower the worker number to avoid potential slowness/freeze if necessary.\n",
            "  warnings.warn(\n"
          ]
        },
        {
          "output_type": "stream",
          "name": "stdout",
          "text": [
            "Epoch 4/15\n",
            "  Train Loss: 1.1714, Train f1: 0.6320\n",
            "  Val Loss: 1.1161, Val f1: 0.6649\n",
            "Sauvegarde du checkpoint: checkpoints/resnet50_checkpoint_epoch_4.pth\n"
          ]
        },
        {
          "output_type": "stream",
          "name": "stderr",
          "text": [
            "\rEpoch 5/15:   0%|          | 0/1626 [00:00<?, ?it/s]/usr/local/lib/python3.11/dist-packages/torch/utils/data/dataloader.py:624: UserWarning: This DataLoader will create 4 worker processes in total. Our suggested max number of worker in current system is 2, which is smaller than what this DataLoader is going to create. Please be aware that excessive worker creation might get DataLoader running slow or even freeze, lower the worker number to avoid potential slowness/freeze if necessary.\n",
            "  warnings.warn(\n",
            "Epoch 5/15: 100%|██████████| 1626/1626 [07:30<00:00,  3.61it/s, training_loss=1.073, accuracy=66.58%]\n",
            "/usr/local/lib/python3.11/dist-packages/torch/utils/data/dataloader.py:624: UserWarning: This DataLoader will create 4 worker processes in total. Our suggested max number of worker in current system is 2, which is smaller than what this DataLoader is going to create. Please be aware that excessive worker creation might get DataLoader running slow or even freeze, lower the worker number to avoid potential slowness/freeze if necessary.\n",
            "  warnings.warn(\n"
          ]
        },
        {
          "output_type": "stream",
          "name": "stdout",
          "text": [
            "Epoch 5/15\n",
            "  Train Loss: 1.0730, Train f1: 0.6589\n",
            "  Val Loss: 1.0779, Val f1: 0.6806\n",
            "Sauvegarde du checkpoint: checkpoints/resnet50_checkpoint_epoch_5.pth\n"
          ]
        },
        {
          "output_type": "stream",
          "name": "stderr",
          "text": [
            "\rEpoch 6/15:   0%|          | 0/1626 [00:00<?, ?it/s]/usr/local/lib/python3.11/dist-packages/torch/utils/data/dataloader.py:624: UserWarning: This DataLoader will create 4 worker processes in total. Our suggested max number of worker in current system is 2, which is smaller than what this DataLoader is going to create. Please be aware that excessive worker creation might get DataLoader running slow or even freeze, lower the worker number to avoid potential slowness/freeze if necessary.\n",
            "  warnings.warn(\n",
            "Epoch 6/15: 100%|██████████| 1626/1626 [07:23<00:00,  3.67it/s, training_loss=0.972, accuracy=69.64%]\n",
            "/usr/local/lib/python3.11/dist-packages/torch/utils/data/dataloader.py:624: UserWarning: This DataLoader will create 4 worker processes in total. Our suggested max number of worker in current system is 2, which is smaller than what this DataLoader is going to create. Please be aware that excessive worker creation might get DataLoader running slow or even freeze, lower the worker number to avoid potential slowness/freeze if necessary.\n",
            "  warnings.warn(\n"
          ]
        },
        {
          "output_type": "stream",
          "name": "stdout",
          "text": [
            "Epoch 6/15\n",
            "  Train Loss: 0.9715, Train f1: 0.6909\n",
            "  Val Loss: 1.0784, Val f1: 0.6854\n",
            "Sauvegarde du checkpoint: checkpoints/resnet50_checkpoint_epoch_6.pth\n"
          ]
        },
        {
          "output_type": "stream",
          "name": "stderr",
          "text": [
            "\rEpoch 7/15:   0%|          | 0/1626 [00:00<?, ?it/s]/usr/local/lib/python3.11/dist-packages/torch/utils/data/dataloader.py:624: UserWarning: This DataLoader will create 4 worker processes in total. Our suggested max number of worker in current system is 2, which is smaller than what this DataLoader is going to create. Please be aware that excessive worker creation might get DataLoader running slow or even freeze, lower the worker number to avoid potential slowness/freeze if necessary.\n",
            "  warnings.warn(\n",
            "Epoch 7/15: 100%|██████████| 1626/1626 [07:21<00:00,  3.68it/s, training_loss=0.880, accuracy=72.31%]\n",
            "/usr/local/lib/python3.11/dist-packages/torch/utils/data/dataloader.py:624: UserWarning: This DataLoader will create 4 worker processes in total. Our suggested max number of worker in current system is 2, which is smaller than what this DataLoader is going to create. Please be aware that excessive worker creation might get DataLoader running slow or even freeze, lower the worker number to avoid potential slowness/freeze if necessary.\n",
            "  warnings.warn(\n"
          ]
        },
        {
          "output_type": "stream",
          "name": "stdout",
          "text": [
            "Epoch 7/15\n",
            "  Train Loss: 0.8798, Train f1: 0.7187\n",
            "  Val Loss: 1.0732, Val f1: 0.6886\n",
            "Sauvegarde du checkpoint: checkpoints/resnet50_checkpoint_epoch_7.pth\n"
          ]
        },
        {
          "output_type": "stream",
          "name": "stderr",
          "text": [
            "\rEpoch 8/15:   0%|          | 0/1626 [00:00<?, ?it/s]/usr/local/lib/python3.11/dist-packages/torch/utils/data/dataloader.py:624: UserWarning: This DataLoader will create 4 worker processes in total. Our suggested max number of worker in current system is 2, which is smaller than what this DataLoader is going to create. Please be aware that excessive worker creation might get DataLoader running slow or even freeze, lower the worker number to avoid potential slowness/freeze if necessary.\n",
            "  warnings.warn(\n",
            "Epoch 8/15: 100%|██████████| 1626/1626 [07:19<00:00,  3.70it/s, training_loss=0.801, accuracy=74.65%]\n",
            "/usr/local/lib/python3.11/dist-packages/torch/utils/data/dataloader.py:624: UserWarning: This DataLoader will create 4 worker processes in total. Our suggested max number of worker in current system is 2, which is smaller than what this DataLoader is going to create. Please be aware that excessive worker creation might get DataLoader running slow or even freeze, lower the worker number to avoid potential slowness/freeze if necessary.\n",
            "  warnings.warn(\n"
          ]
        },
        {
          "output_type": "stream",
          "name": "stdout",
          "text": [
            "Epoch 8/15\n",
            "  Train Loss: 0.8008, Train f1: 0.7426\n",
            "  Val Loss: 1.0875, Val f1: 0.6970\n",
            "Sauvegarde du checkpoint: checkpoints/resnet50_checkpoint_epoch_8.pth\n"
          ]
        },
        {
          "output_type": "stream",
          "name": "stderr",
          "text": [
            "\rEpoch 9/15:   0%|          | 0/1626 [00:00<?, ?it/s]/usr/local/lib/python3.11/dist-packages/torch/utils/data/dataloader.py:624: UserWarning: This DataLoader will create 4 worker processes in total. Our suggested max number of worker in current system is 2, which is smaller than what this DataLoader is going to create. Please be aware that excessive worker creation might get DataLoader running slow or even freeze, lower the worker number to avoid potential slowness/freeze if necessary.\n",
            "  warnings.warn(\n",
            "Epoch 9/15: 100%|██████████| 1626/1626 [07:17<00:00,  3.71it/s, training_loss=0.728, accuracy=76.68%]\n",
            "/usr/local/lib/python3.11/dist-packages/torch/utils/data/dataloader.py:624: UserWarning: This DataLoader will create 4 worker processes in total. Our suggested max number of worker in current system is 2, which is smaller than what this DataLoader is going to create. Please be aware that excessive worker creation might get DataLoader running slow or even freeze, lower the worker number to avoid potential slowness/freeze if necessary.\n",
            "  warnings.warn(\n"
          ]
        },
        {
          "output_type": "stream",
          "name": "stdout",
          "text": [
            "Epoch 9/15\n",
            "  Train Loss: 0.7284, Train f1: 0.7639\n",
            "  Val Loss: 1.1051, Val f1: 0.6989\n",
            "Sauvegarde du checkpoint: checkpoints/resnet50_checkpoint_epoch_9.pth\n"
          ]
        },
        {
          "output_type": "stream",
          "name": "stderr",
          "text": [
            "\rEpoch 10/15:   0%|          | 0/1626 [00:00<?, ?it/s]/usr/local/lib/python3.11/dist-packages/torch/utils/data/dataloader.py:624: UserWarning: This DataLoader will create 4 worker processes in total. Our suggested max number of worker in current system is 2, which is smaller than what this DataLoader is going to create. Please be aware that excessive worker creation might get DataLoader running slow or even freeze, lower the worker number to avoid potential slowness/freeze if necessary.\n",
            "  warnings.warn(\n",
            "Epoch 10/15: 100%|██████████| 1626/1626 [07:17<00:00,  3.72it/s, training_loss=0.702, accuracy=77.50%]\n",
            "/usr/local/lib/python3.11/dist-packages/torch/utils/data/dataloader.py:624: UserWarning: This DataLoader will create 4 worker processes in total. Our suggested max number of worker in current system is 2, which is smaller than what this DataLoader is going to create. Please be aware that excessive worker creation might get DataLoader running slow or even freeze, lower the worker number to avoid potential slowness/freeze if necessary.\n",
            "  warnings.warn(\n"
          ]
        },
        {
          "output_type": "stream",
          "name": "stdout",
          "text": [
            "Epoch 10/15\n",
            "  Train Loss: 0.7016, Train f1: 0.7723\n",
            "  Val Loss: 1.1165, Val f1: 0.6993\n",
            "Sauvegarde du checkpoint: checkpoints/resnet50_checkpoint_epoch_10.pth\n"
          ]
        },
        {
          "output_type": "stream",
          "name": "stderr",
          "text": [
            "\rEpoch 11/15:   0%|          | 0/1626 [00:00<?, ?it/s]/usr/local/lib/python3.11/dist-packages/torch/utils/data/dataloader.py:624: UserWarning: This DataLoader will create 4 worker processes in total. Our suggested max number of worker in current system is 2, which is smaller than what this DataLoader is going to create. Please be aware that excessive worker creation might get DataLoader running slow or even freeze, lower the worker number to avoid potential slowness/freeze if necessary.\n",
            "  warnings.warn(\n",
            "Epoch 11/15: 100%|██████████| 1626/1626 [07:13<00:00,  3.75it/s, training_loss=0.697, accuracy=77.54%]\n",
            "/usr/local/lib/python3.11/dist-packages/torch/utils/data/dataloader.py:624: UserWarning: This DataLoader will create 4 worker processes in total. Our suggested max number of worker in current system is 2, which is smaller than what this DataLoader is going to create. Please be aware that excessive worker creation might get DataLoader running slow or even freeze, lower the worker number to avoid potential slowness/freeze if necessary.\n",
            "  warnings.warn(\n"
          ]
        },
        {
          "output_type": "stream",
          "name": "stdout",
          "text": [
            "Epoch 11/15\n",
            "  Train Loss: 0.6967, Train f1: 0.7726\n",
            "  Val Loss: 1.1104, Val f1: 0.6987\n",
            "Sauvegarde du checkpoint: checkpoints/resnet50_checkpoint_epoch_11.pth\n"
          ]
        },
        {
          "output_type": "stream",
          "name": "stderr",
          "text": [
            "\rEpoch 12/15:   0%|          | 0/1626 [00:00<?, ?it/s]/usr/local/lib/python3.11/dist-packages/torch/utils/data/dataloader.py:624: UserWarning: This DataLoader will create 4 worker processes in total. Our suggested max number of worker in current system is 2, which is smaller than what this DataLoader is going to create. Please be aware that excessive worker creation might get DataLoader running slow or even freeze, lower the worker number to avoid potential slowness/freeze if necessary.\n",
            "  warnings.warn(\n",
            "Epoch 12/15: 100%|██████████| 1626/1626 [07:18<00:00,  3.71it/s, training_loss=0.688, accuracy=77.99%]\n",
            "/usr/local/lib/python3.11/dist-packages/torch/utils/data/dataloader.py:624: UserWarning: This DataLoader will create 4 worker processes in total. Our suggested max number of worker in current system is 2, which is smaller than what this DataLoader is going to create. Please be aware that excessive worker creation might get DataLoader running slow or even freeze, lower the worker number to avoid potential slowness/freeze if necessary.\n",
            "  warnings.warn(\n"
          ]
        },
        {
          "output_type": "stream",
          "name": "stdout",
          "text": [
            "Epoch 12/15\n",
            "  Train Loss: 0.6879, Train f1: 0.7774\n",
            "  Val Loss: 1.1136, Val f1: 0.6997\n",
            "Sauvegarde du checkpoint: checkpoints/resnet50_checkpoint_epoch_12.pth\n"
          ]
        },
        {
          "output_type": "stream",
          "name": "stderr",
          "text": [
            "\rEpoch 13/15:   0%|          | 0/1626 [00:00<?, ?it/s]/usr/local/lib/python3.11/dist-packages/torch/utils/data/dataloader.py:624: UserWarning: This DataLoader will create 4 worker processes in total. Our suggested max number of worker in current system is 2, which is smaller than what this DataLoader is going to create. Please be aware that excessive worker creation might get DataLoader running slow or even freeze, lower the worker number to avoid potential slowness/freeze if necessary.\n",
            "  warnings.warn(\n",
            "Epoch 13/15: 100%|██████████| 1626/1626 [07:20<00:00,  3.69it/s, training_loss=0.696, accuracy=77.59%]\n",
            "/usr/local/lib/python3.11/dist-packages/torch/utils/data/dataloader.py:624: UserWarning: This DataLoader will create 4 worker processes in total. Our suggested max number of worker in current system is 2, which is smaller than what this DataLoader is going to create. Please be aware that excessive worker creation might get DataLoader running slow or even freeze, lower the worker number to avoid potential slowness/freeze if necessary.\n",
            "  warnings.warn(\n"
          ]
        },
        {
          "output_type": "stream",
          "name": "stdout",
          "text": [
            "Epoch 13/15\n",
            "  Train Loss: 0.6963, Train f1: 0.7733\n",
            "  Val Loss: 1.1275, Val f1: 0.6964\n",
            "Sauvegarde du checkpoint: checkpoints/resnet50_checkpoint_epoch_13.pth\n"
          ]
        },
        {
          "output_type": "stream",
          "name": "stderr",
          "text": [
            "\rEpoch 14/15:   0%|          | 0/1626 [00:00<?, ?it/s]/usr/local/lib/python3.11/dist-packages/torch/utils/data/dataloader.py:624: UserWarning: This DataLoader will create 4 worker processes in total. Our suggested max number of worker in current system is 2, which is smaller than what this DataLoader is going to create. Please be aware that excessive worker creation might get DataLoader running slow or even freeze, lower the worker number to avoid potential slowness/freeze if necessary.\n",
            "  warnings.warn(\n",
            "Epoch 14/15: 100%|██████████| 1626/1626 [07:15<00:00,  3.73it/s, training_loss=0.707, accuracy=77.14%]\n",
            "/usr/local/lib/python3.11/dist-packages/torch/utils/data/dataloader.py:624: UserWarning: This DataLoader will create 4 worker processes in total. Our suggested max number of worker in current system is 2, which is smaller than what this DataLoader is going to create. Please be aware that excessive worker creation might get DataLoader running slow or even freeze, lower the worker number to avoid potential slowness/freeze if necessary.\n",
            "  warnings.warn(\n"
          ]
        },
        {
          "output_type": "stream",
          "name": "stdout",
          "text": [
            "Epoch 14/15\n",
            "  Train Loss: 0.7073, Train f1: 0.7685\n",
            "  Val Loss: 1.1408, Val f1: 0.6942\n",
            "Sauvegarde du checkpoint: checkpoints/resnet50_checkpoint_epoch_14.pth\n"
          ]
        },
        {
          "output_type": "stream",
          "name": "stderr",
          "text": [
            "\rEpoch 15/15:   0%|          | 0/1626 [00:00<?, ?it/s]/usr/local/lib/python3.11/dist-packages/torch/utils/data/dataloader.py:624: UserWarning: This DataLoader will create 4 worker processes in total. Our suggested max number of worker in current system is 2, which is smaller than what this DataLoader is going to create. Please be aware that excessive worker creation might get DataLoader running slow or even freeze, lower the worker number to avoid potential slowness/freeze if necessary.\n",
            "  warnings.warn(\n",
            "Epoch 15/15: 100%|██████████| 1626/1626 [07:20<00:00,  3.69it/s, training_loss=0.726, accuracy=76.66%]\n",
            "/usr/local/lib/python3.11/dist-packages/torch/utils/data/dataloader.py:624: UserWarning: This DataLoader will create 4 worker processes in total. Our suggested max number of worker in current system is 2, which is smaller than what this DataLoader is going to create. Please be aware that excessive worker creation might get DataLoader running slow or even freeze, lower the worker number to avoid potential slowness/freeze if necessary.\n",
            "  warnings.warn(\n"
          ]
        },
        {
          "output_type": "stream",
          "name": "stdout",
          "text": [
            "Epoch 15/15\n",
            "  Train Loss: 0.7257, Train f1: 0.7639\n",
            "  Val Loss: 1.1355, Val f1: 0.6890\n",
            "Sauvegarde du checkpoint: checkpoints/resnet50_checkpoint_epoch_15.pth\n",
            "Chargement du checkpoint: checkpoints/best_resnet50_model.pth\n",
            "Initialisation du modèle ResNet50...\n"
          ]
        },
        {
          "output_type": "error",
          "ename": "KeyError",
          "evalue": "'best_val_f1'",
          "traceback": [
            "\u001b[0;31m---------------------------------------------------------------------------\u001b[0m",
            "\u001b[0;31mKeyError\u001b[0m                                  Traceback (most recent call last)",
            "\u001b[0;32m<ipython-input-4-410408833>\u001b[0m in \u001b[0;36m<cell line: 0>\u001b[0;34m()\u001b[0m\n\u001b[1;32m    316\u001b[0m     \u001b[0;31m# Charger le meilleur modèle pour l'évaluation finale\u001b[0m\u001b[0;34m\u001b[0m\u001b[0;34m\u001b[0m\u001b[0m\n\u001b[1;32m    317\u001b[0m     \u001b[0mbest_model_path\u001b[0m \u001b[0;34m=\u001b[0m \u001b[0mos\u001b[0m\u001b[0;34m.\u001b[0m\u001b[0mpath\u001b[0m\u001b[0;34m.\u001b[0m\u001b[0mjoin\u001b[0m\u001b[0;34m(\u001b[0m\u001b[0mcheckpoint_dir\u001b[0m\u001b[0;34m,\u001b[0m \u001b[0;34m'best_resnet50_model.pth'\u001b[0m\u001b[0;34m)\u001b[0m\u001b[0;34m\u001b[0m\u001b[0;34m\u001b[0m\u001b[0m\n\u001b[0;32m--> 318\u001b[0;31m     \u001b[0mmodel\u001b[0m\u001b[0;34m,\u001b[0m \u001b[0m_\u001b[0m\u001b[0;34m,\u001b[0m \u001b[0m_\u001b[0m\u001b[0;34m,\u001b[0m \u001b[0m_\u001b[0m\u001b[0;34m,\u001b[0m \u001b[0m_\u001b[0m\u001b[0;34m,\u001b[0m \u001b[0m_\u001b[0m\u001b[0;34m,\u001b[0m \u001b[0m_\u001b[0m \u001b[0;34m=\u001b[0m \u001b[0mload_checkpoint\u001b[0m\u001b[0;34m(\u001b[0m\u001b[0mbest_model_path\u001b[0m\u001b[0;34m)\u001b[0m\u001b[0;34m\u001b[0m\u001b[0;34m\u001b[0m\u001b[0m\n\u001b[0m\u001b[1;32m    319\u001b[0m \u001b[0;34m\u001b[0m\u001b[0m\n\u001b[1;32m    320\u001b[0m     \u001b[0;31m# Évaluation finale\u001b[0m\u001b[0;34m\u001b[0m\u001b[0;34m\u001b[0m\u001b[0m\n",
            "\u001b[0;32m<ipython-input-4-410408833>\u001b[0m in \u001b[0;36mload_checkpoint\u001b[0;34m(checkpoint_path, model, optimizer)\u001b[0m\n\u001b[1;32m     99\u001b[0m     \u001b[0mhistory\u001b[0m \u001b[0;34m=\u001b[0m \u001b[0mcheckpoint\u001b[0m\u001b[0;34m.\u001b[0m\u001b[0mget\u001b[0m\u001b[0;34m(\u001b[0m\u001b[0;34m'history'\u001b[0m\u001b[0;34m,\u001b[0m \u001b[0;34m{\u001b[0m\u001b[0;34m'train_loss'\u001b[0m\u001b[0;34m:\u001b[0m \u001b[0;34m[\u001b[0m\u001b[0;34m]\u001b[0m\u001b[0;34m,\u001b[0m \u001b[0;34m'val_loss'\u001b[0m\u001b[0;34m:\u001b[0m \u001b[0;34m[\u001b[0m\u001b[0;34m]\u001b[0m\u001b[0;34m,\u001b[0m \u001b[0;34m'train_f1'\u001b[0m\u001b[0;34m:\u001b[0m \u001b[0;34m[\u001b[0m\u001b[0;34m]\u001b[0m\u001b[0;34m,\u001b[0m \u001b[0;34m'val_f1'\u001b[0m\u001b[0;34m:\u001b[0m \u001b[0;34m[\u001b[0m\u001b[0;34m]\u001b[0m\u001b[0;34m}\u001b[0m\u001b[0;34m)\u001b[0m\u001b[0;34m\u001b[0m\u001b[0;34m\u001b[0m\u001b[0m\n\u001b[1;32m    100\u001b[0m \u001b[0;34m\u001b[0m\u001b[0m\n\u001b[0;32m--> 101\u001b[0;31m     \u001b[0;32mreturn\u001b[0m \u001b[0mmodel\u001b[0m\u001b[0;34m,\u001b[0m \u001b[0moptimizer\u001b[0m\u001b[0;34m,\u001b[0m \u001b[0mcheckpoint\u001b[0m\u001b[0;34m[\u001b[0m\u001b[0;34m'epoch'\u001b[0m\u001b[0;34m]\u001b[0m\u001b[0;34m,\u001b[0m \u001b[0mcheckpoint\u001b[0m\u001b[0;34m[\u001b[0m\u001b[0;34m'best_val_f1'\u001b[0m\u001b[0;34m]\u001b[0m\u001b[0;34m,\u001b[0m \u001b[0mcheckpoint\u001b[0m\u001b[0;34m[\u001b[0m\u001b[0;34m'counter'\u001b[0m\u001b[0;34m]\u001b[0m\u001b[0;34m,\u001b[0m \u001b[0mhistory\u001b[0m\u001b[0;34m,\u001b[0m \u001b[0mcheckpoint\u001b[0m\u001b[0;34m[\u001b[0m\u001b[0;34m'scheduler_state_dict'\u001b[0m\u001b[0;34m]\u001b[0m\u001b[0;34m\u001b[0m\u001b[0;34m\u001b[0m\u001b[0m\n\u001b[0m\u001b[1;32m    102\u001b[0m \u001b[0;34m\u001b[0m\u001b[0m\n\u001b[1;32m    103\u001b[0m \u001b[0;32mdef\u001b[0m \u001b[0msave_checkpoint\u001b[0m\u001b[0;34m(\u001b[0m\u001b[0mepoch\u001b[0m\u001b[0;34m,\u001b[0m \u001b[0mmodel\u001b[0m\u001b[0;34m,\u001b[0m \u001b[0moptimizer\u001b[0m\u001b[0;34m,\u001b[0m \u001b[0mscheduler\u001b[0m\u001b[0;34m,\u001b[0m \u001b[0mbest_val_f1\u001b[0m\u001b[0;34m,\u001b[0m \u001b[0mcounter\u001b[0m\u001b[0;34m,\u001b[0m \u001b[0mhistory\u001b[0m\u001b[0;34m)\u001b[0m\u001b[0;34m:\u001b[0m\u001b[0;34m\u001b[0m\u001b[0;34m\u001b[0m\u001b[0m\n",
            "\u001b[0;31mKeyError\u001b[0m: 'best_val_f1'"
          ]
        }
      ]
    },
    {
      "cell_type": "code",
      "source": [
        "plt.figure(figsize=(12, 4))\n",
        "plt.subplot(1, 2, 1)\n",
        "plt.plot(history['train_loss'], label='Train Loss')\n",
        "plt.plot(history['val_loss'], label='Val Loss')\n",
        "plt.xlabel('Epoch')\n",
        "plt.ylabel('Loss')\n",
        "plt.legend()\n",
        "\n",
        "plt.subplot(1, 2, 2)\n",
        "plt.plot(history['train_f1'], label='Train f1-score')\n",
        "plt.plot(history['val_f1'], label='Val f1-score')\n",
        "plt.xlabel('Epoch')\n",
        "plt.ylabel('f1-score pondéré')\n",
        "plt.legend()\n",
        "plt.tight_layout()\n",
        "plt.savefig(os.path.join(checkpoint_dir, 'resnet50_training_history.png'))\n",
        "plt.show()\n"
      ],
      "metadata": {
        "colab": {
          "base_uri": "https://localhost:8080/",
          "height": 407
        },
        "id": "VZIJDigua1oy",
        "outputId": "d45087ae-5c1d-4cd3-e395-87caf2da455b"
      },
      "execution_count": null,
      "outputs": [
        {
          "output_type": "display_data",
          "data": {
            "text/plain": [
              "<Figure size 1200x400 with 2 Axes>"
            ],
            "image/png": "[encoded data removed]"
          },
          "metadata": {}
        }
      ]
    }
  ],
  "metadata": {
    "colab": {
      "provenance": [],
      "gpuType": "T4"
    },
    "kernelspec": {
      "display_name": "Python 3",
      "name": "python3"
    },
    "language_info": {
      "codemirror_mode": {
        "name": "ipython",
        "version": 3
      },
      "file_extension": ".py",
      "mimetype": "text/x-python",
      "name": "python",
      "nbconvert_exporter": "python",
      "pygments_lexer": "ipython3",
      "version": "3.11.9"
    },
    "accelerator": "GPU"
  },
  "nbformat": 4,
  "nbformat_minor": 0
}